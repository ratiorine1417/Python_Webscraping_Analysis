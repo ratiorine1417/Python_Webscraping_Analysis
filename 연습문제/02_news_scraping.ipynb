{
 "cells": [
  {
   "cell_type": "code",
   "execution_count": 6,
   "id": "ef94f2b4",
   "metadata": {},
   "outputs": [],
   "source": [
    "# reqeusts, bs4 import\n",
    "import requests\n",
    "# BeautifulSoup 클래스 import\n",
    "from bs4 import BeautifulSoup\n",
    "from IPython.display import Image, display\n",
    "from urllib.parse import urljoin"
   ]
  },
  {
   "cell_type": "code",
   "execution_count": 11,
   "id": "f0092cf6",
   "metadata": {},
   "outputs": [],
   "source": [
    "# 2-1\n",
    "section_dict = {'최신뉴스': 100,'사회': 400,'세계': 500,\n",
    "                '경제': 300,'정치': 200,'IT/과학': 600}\n",
    "\n",
    "def print_news(section_name):\n",
    "    sid = section_dict[section_name]\n",
    "    section = 'section'\n",
    "    if section_name == '최신뉴스':\n",
    "        section = 'recent'\n",
    "    url = f'https://news.nate.com/{section}?mid=n0{sid}'\n",
    "    print(f'======> {url} {section_name} <======')\n",
    "\n",
    "    # 요청 헤더 설정 : 브라우저 정보\n",
    "    req_header = {\n",
    "        \"user-agent\": \"Mozilla/5.0 (Windows NT 10.0; Win64; x64) AppleWebKit/537.36 (KHTML, like Gecko) Chrome/138.0.0.0 Safari/537.36\"\n",
    "    }\n",
    "    # requests 의 get() 함수 호출하기\n",
    "    res = requests.get(url, headers=req_header)\n",
    "        \n",
    "    if (res.ok):\n",
    "        # 응답 enconding 헤더 설정\n",
    "        res.encoding = 'euc-kr'\n",
    "        html = res.text\n",
    "        # BeautifulSoup 객체 생성\n",
    "        soup = BeautifulSoup(html, \"html.parser\")\n",
    "\n",
    "        a_tags = soup.select(\"div.mlt01 a\")\n",
    "        \n",
    "        for a_tag in a_tags:\n",
    "            link = urljoin(url, a_tag['href']) # 링크\n",
    "            span_tag = a_tag.select_one('span.tb h2.tit')\n",
    "            title = span_tag.text.strip() # 제목\n",
    "            print(f'{link}\\n{title}')\n",
    "            \n",
    "            img_tag = a_tag.select_one('span.ib img')\n",
    "            # print(img_tag)\n",
    "            # img tag가 없을 시 None으로 나옴\n",
    "            if img_tag:\n",
    "                img_url = img_tag['src']\n",
    "                url_join = urljoin(base=url, url=img_url, allow_fragments=True)\n",
    "                img = Image(url=url_join)\n",
    "                display(img)\n",
    "    else:\n",
    "        # 응답(response)이 Error 이면 status code 출력  \n",
    "        print(f'Error Code = {res.status_code}')"
   ]
  },
  {
   "cell_type": "code",
   "execution_count": 12,
   "id": "0f09532f",
   "metadata": {},
   "outputs": [
    {
     "name": "stdout",
     "output_type": "stream",
     "text": [
      "======> https://news.nate.com/recent?mid=n0100 최신뉴스 <======\n",
      "https://news.nate.com/view/20250725n08707?mid=n0100\n",
      "[게시판] 삼성화재, 수해지역에 구호 물품 2천세트 전달\n"
     ]
    },
    {
     "data": {
      "text/html": [
       "<img src=\"https://thumbnews.nateimg.co.kr/news90///news.nateimg.co.kr/orgImg/yt/2025/07/25/AKR20250725048100002_01_i.jpg\"/>"
      ],
      "text/plain": [
       "<IPython.core.display.Image object>"
      ]
     },
     "metadata": {},
     "output_type": "display_data"
    },
    {
     "name": "stdout",
     "output_type": "stream",
     "text": [
      "https://news.nate.com/view/20250725n08706?mid=n0100\n",
      "안철수 \"친명 유튜버로 대통령실 출입기자 잡도리하나\" 일갈\n"
     ]
    },
    {
     "data": {
      "text/html": [
       "<img src=\"https://thumbnews.nateimg.co.kr/news90///news.nateimg.co.kr/orgImg/dn/2025/07/25/news_1753404795_1527667_m_1.jpg\"/>"
      ],
      "text/plain": [
       "<IPython.core.display.Image object>"
      ]
     },
     "metadata": {},
     "output_type": "display_data"
    },
    {
     "name": "stdout",
     "output_type": "stream",
     "text": [
      "https://news.nate.com/view/20250725n08705?mid=n0100\n",
      "특검 조사 출석하는 허태근 전 국방정책실장\n"
     ]
    },
    {
     "data": {
      "text/html": [
       "<img src=\"https://thumbnews.nateimg.co.kr/news90///news.nateimg.co.kr/orgImg/yt/2025/07/25/PYH2025072502650001301_P2.jpg\"/>"
      ],
      "text/plain": [
       "<IPython.core.display.Image object>"
      ]
     },
     "metadata": {},
     "output_type": "display_data"
    },
    {
     "name": "stdout",
     "output_type": "stream",
     "text": [
      "https://news.nate.com/view/20250725n08704?mid=n0100\n",
      "생산성본부-여성경제진흥원, 상호 협력 체계 구축 업무협약 체결\n"
     ]
    },
    {
     "data": {
      "text/html": [
       "<img src=\"https://thumbnews.nateimg.co.kr/news90///news.nateimg.co.kr/orgImg/dn/2025/07/25/news_1753400936_1527590_m_1.png\"/>"
      ],
      "text/plain": [
       "<IPython.core.display.Image object>"
      ]
     },
     "metadata": {},
     "output_type": "display_data"
    },
    {
     "name": "stdout",
     "output_type": "stream",
     "text": [
      "https://news.nate.com/view/20250725n08703?mid=n0100\n",
      "정읍시, '민생회복 소비쿠폰' 사용 릴레이 캠페인\n"
     ]
    },
    {
     "data": {
      "text/html": [
       "<img src=\"https://thumbnews.nateimg.co.kr/news90///news.nateimg.co.kr/orgImg/yt/2025/07/25/AKR20250725045800055_01_i.jpg\"/>"
      ],
      "text/plain": [
       "<IPython.core.display.Image object>"
      ]
     },
     "metadata": {},
     "output_type": "display_data"
    },
    {
     "name": "stdout",
     "output_type": "stream",
     "text": [
      "https://news.nate.com/view/20250725n04192?mid=n0100\n",
      "[1보] 김건희특검, 서초구 아크로비스타 압수수색 시도\n"
     ]
    },
    {
     "data": {
      "text/html": [
       "<img src=\"https://thumbnews.nateimg.co.kr/news90///news.nateimg.co.kr/orgImg/yt/2025/07/25/PYH2025072502010001301_P2.jpg\"/>"
      ],
      "text/plain": [
       "<IPython.core.display.Image object>"
      ]
     },
     "metadata": {},
     "output_type": "display_data"
    },
    {
     "name": "stdout",
     "output_type": "stream",
     "text": [
      "https://news.nate.com/view/20250725n03373?mid=n0100\n",
      "美-韓 오가며 데이팅앱 여성과 성관계한 남편에 상간 소송…그런데 선임한 변호사가 쉬쉬?\n"
     ]
    },
    {
     "data": {
      "text/html": [
       "<img src=\"https://thumbnews.nateimg.co.kr/news90///news.nateimg.co.kr/orgImg/yn/2025/07/25/202507250720331692_d.jpg\"/>"
      ],
      "text/plain": [
       "<IPython.core.display.Image object>"
      ]
     },
     "metadata": {},
     "output_type": "display_data"
    },
    {
     "name": "stdout",
     "output_type": "stream",
     "text": [
      "https://news.nate.com/view/20250725n08700?mid=n0100\n",
      "[오늘공개] 헬스로맨스 '벌크업', '소년24' 오진석→핫 피지컬 이재빈\n"
     ]
    },
    {
     "data": {
      "text/html": [
       "<img src=\"https://thumbnews.nateimg.co.kr/news90///news.nateimg.co.kr/orgImg/jn/2025/07/25/198e0d3eebce72.jpg\"/>"
      ],
      "text/plain": [
       "<IPython.core.display.Image object>"
      ]
     },
     "metadata": {},
     "output_type": "display_data"
    },
    {
     "name": "stdout",
     "output_type": "stream",
     "text": [
      "https://news.nate.com/view/20250725n08699?mid=n0100\n",
      "벤츠, 전고체 배터리 전기차 시험 주행…2030년 상용화 목표\n"
     ]
    },
    {
     "data": {
      "text/html": [
       "<img src=\"https://thumbnews.nateimg.co.kr/news90///news.nateimg.co.kr/orgImg/iu/2025/07/25/580014_541499_528.png\"/>"
      ],
      "text/plain": [
       "<IPython.core.display.Image object>"
      ]
     },
     "metadata": {},
     "output_type": "display_data"
    },
    {
     "name": "stdout",
     "output_type": "stream",
     "text": [
      "https://news.nate.com/view/20250725n08698?mid=n0100\n",
      "김선교 의원실 압수수색 비판하는 송언석 원내대표\n"
     ]
    },
    {
     "data": {
      "text/html": [
       "<img src=\"https://thumbnews.nateimg.co.kr/news90///news.nateimg.co.kr/orgImg/yt/2025/07/25/PYH2025072502730001300_P2.jpg\"/>"
      ],
      "text/plain": [
       "<IPython.core.display.Image object>"
      ]
     },
     "metadata": {},
     "output_type": "display_data"
    },
    {
     "name": "stdout",
     "output_type": "stream",
     "text": [
      "https://news.nate.com/view/20250725n03092?mid=n0100\n",
      "\"혁신만 외치고 제도는 없다\"…토큰증권법 또 무산되자 업계 '허탈'\n"
     ]
    },
    {
     "data": {
      "text/html": [
       "<img src=\"https://thumbnews.nateimg.co.kr/news90///news.nateimg.co.kr/orgImg/na/2025/07/25/4646135_high.jpg\"/>"
      ],
      "text/plain": [
       "<IPython.core.display.Image object>"
      ]
     },
     "metadata": {},
     "output_type": "display_data"
    },
    {
     "name": "stdout",
     "output_type": "stream",
     "text": [
      "https://news.nate.com/view/20250725n08635?mid=n0100\n",
      "[투데이TV]'폭싹' 제니母 김금순 \"브라질서 6인조 강도에 목숨 위험했다\"(편스토랑)\n"
     ]
    },
    {
     "data": {
      "text/html": [
       "<img src=\"https://thumbnews.nateimg.co.kr/news90///news.nateimg.co.kr/orgImg/hm/2025/07/25/news-p.v1.20250725.e6e6665dd17941cba6cf210fd84c4678_P1.jpg\"/>"
      ],
      "text/plain": [
       "<IPython.core.display.Image object>"
      ]
     },
     "metadata": {},
     "output_type": "display_data"
    },
    {
     "name": "stdout",
     "output_type": "stream",
     "text": [
      "https://news.nate.com/view/20250725n06164?mid=n0100\n",
      "[2보] 김건희특검, 김여사 서초구 아크로비스타 압수수색 시도\n"
     ]
    },
    {
     "data": {
      "text/html": [
       "<img src=\"https://thumbnews.nateimg.co.kr/news90///news.nateimg.co.kr/orgImg/yt/2025/07/25/PYH2025072502060001301_P2.jpg\"/>"
      ],
      "text/plain": [
       "<IPython.core.display.Image object>"
      ]
     },
     "metadata": {},
     "output_type": "display_data"
    },
    {
     "name": "stdout",
     "output_type": "stream",
     "text": [
      "https://news.nate.com/view/20250725n08694?mid=n0100\n",
      "배틀그라운드 모바일, e스포츠 월드컵 '2025 PMWC' 사우디서 개막\n"
     ]
    },
    {
     "data": {
      "text/html": [
       "<img src=\"https://thumbnews.nateimg.co.kr/news90///news.nateimg.co.kr/orgImg/cz/2025/07/25/cz_1753404844820_169000_0.jpg\"/>"
      ],
      "text/plain": [
       "<IPython.core.display.Image object>"
      ]
     },
     "metadata": {},
     "output_type": "display_data"
    },
    {
     "name": "stdout",
     "output_type": "stream",
     "text": [
      "https://news.nate.com/view/20250725n08693?mid=n0100\n",
      "최민희 의원, AI 국가책임 강화 4법 대표발의\n"
     ]
    },
    {
     "data": {
      "text/html": [
       "<img src=\"https://thumbnews.nateimg.co.kr/news90///news.nateimg.co.kr/orgImg/in/2025/07/25/c51822730b030e.jpg\"/>"
      ],
      "text/plain": [
       "<IPython.core.display.Image object>"
      ]
     },
     "metadata": {},
     "output_type": "display_data"
    },
    {
     "name": "stdout",
     "output_type": "stream",
     "text": [
      "https://news.nate.com/view/20250725n08692?mid=n0100\n",
      "애드쿠아·마더브레인, 소셜아이어워드서 9개 부문 수상\n"
     ]
    },
    {
     "data": {
      "text/html": [
       "<img src=\"https://thumbnews.nateimg.co.kr/news90///news.nateimg.co.kr/orgImg/ns/2025/07/25/NISI20250725_0001902592_web.jpg\"/>"
      ],
      "text/plain": [
       "<IPython.core.display.Image object>"
      ]
     },
     "metadata": {},
     "output_type": "display_data"
    },
    {
     "name": "stdout",
     "output_type": "stream",
     "text": [
      "https://news.nate.com/view/20250725n02335?mid=n0100\n",
      "이틀 새 반대매매 비중 두 배···'단기 빚투'에 투자 경고등\n"
     ]
    },
    {
     "data": {
      "text/html": [
       "<img src=\"https://thumbnews.nateimg.co.kr/news90///news.nateimg.co.kr/orgImg/se/2025/07/25/2GVHIQ6AA8_2.jpg\"/>"
      ],
      "text/plain": [
       "<IPython.core.display.Image object>"
      ]
     },
     "metadata": {},
     "output_type": "display_data"
    },
    {
     "name": "stdout",
     "output_type": "stream",
     "text": [
      "https://news.nate.com/view/20250725n08690?mid=n0100\n",
      "[단독] 세종청사도 취재진 모습 비춘다…李대통령표 '쌍방향 브리핑' 확대\n"
     ]
    },
    {
     "data": {
      "text/html": [
       "<img src=\"https://thumbnews.nateimg.co.kr/news90///news.nateimg.co.kr/orgImg/ni/2025/07/25/2507250915257360.jpg\"/>"
      ],
      "text/plain": [
       "<IPython.core.display.Image object>"
      ]
     },
     "metadata": {},
     "output_type": "display_data"
    },
    {
     "name": "stdout",
     "output_type": "stream",
     "text": [
      "https://news.nate.com/view/20250725n08689?mid=n0100\n",
      "김선교 의원실 압수수색 비판하는 송언석 원내대표\n"
     ]
    },
    {
     "data": {
      "text/html": [
       "<img src=\"https://thumbnews.nateimg.co.kr/news90///news.nateimg.co.kr/orgImg/yt/2025/07/25/PYH2025072502660001300_P2.jpg\"/>"
      ],
      "text/plain": [
       "<IPython.core.display.Image object>"
      ]
     },
     "metadata": {},
     "output_type": "display_data"
    },
    {
     "name": "stdout",
     "output_type": "stream",
     "text": [
      "https://news.nate.com/view/20250725n08688?mid=n0100\n",
      "이수지, '워터밤' 서 과감한 노출…\"남편이 창피하다고\"\n"
     ]
    },
    {
     "data": {
      "text/html": [
       "<img src=\"https://thumbnews.nateimg.co.kr/news90///news.nateimg.co.kr/orgImg/ns/2025/07/25/NISI20250725_0001902571_web.jpg\"/>"
      ],
      "text/plain": [
       "<IPython.core.display.Image object>"
      ]
     },
     "metadata": {},
     "output_type": "display_data"
    },
    {
     "name": "stdout",
     "output_type": "stream",
     "text": [
      "======> https://news.nate.com/section?mid=n0400 사회 <======\n",
      "https://news.nate.com/view/20250725n05641?mid=n0400\n",
      "이중 고기압에 들끓는 한반도…서울·대전 한낮 37도까지 올라\n"
     ]
    },
    {
     "data": {
      "text/html": [
       "<img src=\"https://thumbnews.nateimg.co.kr/news90///news.nateimg.co.kr/orgImg/yt/2025/07/25/PYH2025072414870005300_P2.jpg\"/>"
      ],
      "text/plain": [
       "<IPython.core.display.Image object>"
      ]
     },
     "metadata": {},
     "output_type": "display_data"
    },
    {
     "name": "stdout",
     "output_type": "stream",
     "text": [
      "https://news.nate.com/view/20250724n41348?mid=n0400\n",
      "[단독] \"비즈니스 모두 태우려 비행기 두대 나눠 예약\"…혈세외유 추적\n"
     ]
    },
    {
     "data": {
      "text/html": [
       "<img src=\"https://thumbnews.nateimg.co.kr/news90///news.nateimg.co.kr/orgImg/jt/2025/07/24/20250724204413024001.jpg\"/>"
      ],
      "text/plain": [
       "<IPython.core.display.Image object>"
      ]
     },
     "metadata": {},
     "output_type": "display_data"
    },
    {
     "name": "stdout",
     "output_type": "stream",
     "text": [
      "https://news.nate.com/view/20250725n01067?mid=n0400\n",
      "[단독] 건진법사, 통일교 키맨에 \"MBC 없애려 해…공포정치 피바람도 좋아\"\n"
     ]
    },
    {
     "data": {
      "text/html": [
       "<img src=\"https://thumbnews.nateimg.co.kr/news90///news.nateimg.co.kr/orgImg/hi/2025/07/25/bc1e2f52-5f83-464c-8afc-ddbfbf23669a.jpg\"/>"
      ],
      "text/plain": [
       "<IPython.core.display.Image object>"
      ]
     },
     "metadata": {},
     "output_type": "display_data"
    },
    {
     "name": "stdout",
     "output_type": "stream",
     "text": [
      "https://news.nate.com/view/20250725n04546?mid=n0400\n",
      "[단독] 김건희 특검, '도이치·명태균 의혹' 尹자택·코바나 압수수색\n"
     ]
    },
    {
     "data": {
      "text/html": [
       "<img src=\"https://thumbnews.nateimg.co.kr/news90///news.nateimg.co.kr/orgImg/kx/2025/07/25/2024120415104275846_1733292642_0028448454.jpg\"/>"
      ],
      "text/plain": [
       "<IPython.core.display.Image object>"
      ]
     },
     "metadata": {},
     "output_type": "display_data"
    },
    {
     "name": "stdout",
     "output_type": "stream",
     "text": [
      "https://news.nate.com/view/20250725n01601?mid=n0400\n",
      "\"빨리 먹어\" 혼밥女 홀대 여수 맛집, 결국…'과태료' 처분\n"
     ]
    },
    {
     "data": {
      "text/html": [
       "<img src=\"https://thumbnews.nateimg.co.kr/news90///news.nateimg.co.kr/orgImg/fn/2025/07/25/202507210958576958_l.jpg\"/>"
      ],
      "text/plain": [
       "<IPython.core.display.Image object>"
      ]
     },
     "metadata": {},
     "output_type": "display_data"
    },
    {
     "name": "stdout",
     "output_type": "stream",
     "text": [
      "https://news.nate.com/view/20250725n01897?mid=n0400\n",
      "\"밥 먹을 땐 개도 안 건드린다\" 속담 놓고…때아닌 문해력 논란\n"
     ]
    },
    {
     "data": {
      "text/html": [
       "<img src=\"https://thumbnews.nateimg.co.kr/news90///news.nateimg.co.kr/orgImg/fn/2025/07/25/202507242230568464_l.jpg\"/>"
      ],
      "text/plain": [
       "<IPython.core.display.Image object>"
      ]
     },
     "metadata": {},
     "output_type": "display_data"
    },
    {
     "name": "stdout",
     "output_type": "stream",
     "text": [
      "https://news.nate.com/view/20250725n00456?mid=n0400\n",
      "피의자 없는 현장 진입에 1시간…경찰 초기 대처 논란\n"
     ]
    },
    {
     "data": {
      "text/html": [
       "<img src=\"https://thumbnews.nateimg.co.kr/news90///news.nateimg.co.kr/orgImg/ch/2025/07/25/ch_1753372452391_155891_0.jpg\"/>"
      ],
      "text/plain": [
       "<IPython.core.display.Image object>"
      ]
     },
     "metadata": {},
     "output_type": "display_data"
    },
    {
     "name": "stdout",
     "output_type": "stream",
     "text": [
      "https://news.nate.com/view/20250724n38481?mid=n0400\n",
      "'특혜 반대' 싸늘한 여론…전공의들, 환자단체 찾아 소통 시도(종합)\n"
     ]
    },
    {
     "data": {
      "text/html": [
       "<img src=\"https://thumbnews.nateimg.co.kr/news90///news.nateimg.co.kr/orgImg/yt/2025/07/24/PYH2025072008810001300_P2.jpg\"/>"
      ],
      "text/plain": [
       "<IPython.core.display.Image object>"
      ]
     },
     "metadata": {},
     "output_type": "display_data"
    },
    {
     "name": "stdout",
     "output_type": "stream",
     "text": [
      "https://news.nate.com/view/20250724n31688?mid=n0400\n",
      "단체대화방서 여교사 성희롱·외모품평한 제주 남고생들\n"
     ]
    },
    {
     "data": {
      "text/html": [
       "<img src=\"https://thumbnews.nateimg.co.kr/news90///news.nateimg.co.kr/orgImg/na/2025/07/24/7088611_high.jpg\"/>"
      ],
      "text/plain": [
       "<IPython.core.display.Image object>"
      ]
     },
     "metadata": {},
     "output_type": "display_data"
    },
    {
     "name": "stdout",
     "output_type": "stream",
     "text": [
      "https://news.nate.com/view/20250724n22132?mid=n0400\n",
      "\"말 안 듣네, 확 영상 올려버린다\"…몰카로 여성 협박한 소방관\n"
     ]
    },
    {
     "data": {
      "text/html": [
       "<img src=\"https://thumbnews.nateimg.co.kr/news90///news.nateimg.co.kr/orgImg/na/2025/07/24/3048099_high.jpg\"/>"
      ],
      "text/plain": [
       "<IPython.core.display.Image object>"
      ]
     },
     "metadata": {},
     "output_type": "display_data"
    },
    {
     "name": "stdout",
     "output_type": "stream",
     "text": [
      "https://news.nate.com/view/20250724n24045?mid=n0400\n",
      "'흑백요리사' 안유성, 침수 피해 나주 찾아 따뜻한 한 끼 전달\n"
     ]
    },
    {
     "data": {
      "text/html": [
       "<img src=\"https://thumbnews.nateimg.co.kr/news90///news.nateimg.co.kr/orgImg/na/2025/07/24/7411417_high.jpg\"/>"
      ],
      "text/plain": [
       "<IPython.core.display.Image object>"
      ]
     },
     "metadata": {},
     "output_type": "display_data"
    },
    {
     "name": "stdout",
     "output_type": "stream",
     "text": [
      "https://news.nate.com/view/20250724n22378?mid=n0400\n",
      "경찰, 하이브 압수수색…방시혁 부정거래 혐의 관련\n"
     ]
    },
    {
     "data": {
      "text/html": [
       "<img src=\"https://thumbnews.nateimg.co.kr/news90///news.nateimg.co.kr/orgImg/na/2025/07/24/7008506_high.jpg\"/>"
      ],
      "text/plain": [
       "<IPython.core.display.Image object>"
      ]
     },
     "metadata": {},
     "output_type": "display_data"
    },
    {
     "name": "stdout",
     "output_type": "stream",
     "text": [
      "https://news.nate.com/view/20250724n18597?mid=n0400\n",
      "[단독]경찰, 600명 규모 전담인력 투입…보이스피싱 뿌리뽑는다\n"
     ]
    },
    {
     "data": {
      "text/html": [
       "<img src=\"https://thumbnews.nateimg.co.kr/news90///news.nateimg.co.kr/orgImg/mh/2025/07/24/news-p.v1.20250724.2c3dcd3ef5c549e08a183ba667eb7568_P3.jpg\"/>"
      ],
      "text/plain": [
       "<IPython.core.display.Image object>"
      ]
     },
     "metadata": {},
     "output_type": "display_data"
    },
    {
     "name": "stdout",
     "output_type": "stream",
     "text": [
      "https://news.nate.com/view/20250724n16160?mid=n0400\n",
      "[단독] \"엔진 결함 미확인\"…사조위, 오른쪽 엔진 '서지' 심각 손상\n"
     ]
    },
    {
     "data": {
      "text/html": [
       "<img src=\"https://thumbnews.nateimg.co.kr/news90///news.nateimg.co.kr/orgImg/na/2025/07/24/7069182_high.jpg\"/>"
      ],
      "text/plain": [
       "<IPython.core.display.Image object>"
      ]
     },
     "metadata": {},
     "output_type": "display_data"
    },
    {
     "name": "stdout",
     "output_type": "stream",
     "text": [
      "https://news.nate.com/view/20250724n13241?mid=n0400\n",
      "\"학원도 학교도 아니었다\"…비인가 국제학교의 '민낯'\n"
     ]
    },
    {
     "data": {
      "text/html": [
       "<img src=\"https://thumbnews.nateimg.co.kr/news90///news.nateimg.co.kr/orgImg/ns/2025/07/24/NISI20250724_0001901242_web.jpg\"/>"
      ],
      "text/plain": [
       "<IPython.core.display.Image object>"
      ]
     },
     "metadata": {},
     "output_type": "display_data"
    },
    {
     "name": "stdout",
     "output_type": "stream",
     "text": [
      "======> https://news.nate.com/section?mid=n0500 세계 <======\n",
      "https://news.nate.com/view/20250725n03074?mid=n0500\n",
      "\"발리 여행시 주의\"…'치사율 100%' 병 확산, 관광지 적색구역 지정\n"
     ]
    },
    {
     "data": {
      "text/html": [
       "<img src=\"https://thumbnews.nateimg.co.kr/news90///news.nateimg.co.kr/orgImg/ch/2025/07/25/ch_1753396685152_188773_0.jpg\"/>"
      ],
      "text/plain": [
       "<IPython.core.display.Image object>"
      ]
     },
     "metadata": {},
     "output_type": "display_data"
    },
    {
     "name": "stdout",
     "output_type": "stream",
     "text": [
      "https://news.nate.com/view/20250725n00782?mid=n0500\n",
      "美상무 \"韓, 日합의에 욕 나왔을 것…정말 합의 원해\"(종합2보)\n"
     ]
    },
    {
     "data": {
      "text/html": [
       "<img src=\"https://thumbnews.nateimg.co.kr/news90///news.nateimg.co.kr/orgImg/na/2025/07/25/7412455_high.jpg\"/>"
      ],
      "text/plain": [
       "<IPython.core.display.Image object>"
      ]
     },
     "metadata": {},
     "output_type": "display_data"
    },
    {
     "name": "stdout",
     "output_type": "stream",
     "text": [
      "https://news.nate.com/view/20250725n02174?mid=n0500\n",
      "(영상) 제5의 전쟁 엄습, 캄보디아 '로켓포' 태국 '전투기' 충돌…민간인 줄사망 [포착]\n"
     ]
    },
    {
     "data": {
      "text/html": [
       "<img src=\"https://thumbnews.nateimg.co.kr/news90///news.nateimg.co.kr/orgImg/no/2025/07/25/SSC_20250725024145_V.jpg\"/>"
      ],
      "text/plain": [
       "<IPython.core.display.Image object>"
      ]
     },
     "metadata": {},
     "output_type": "display_data"
    },
    {
     "name": "stdout",
     "output_type": "stream",
     "text": [
      "https://news.nate.com/view/20250724n41251?mid=n0500\n",
      "러 극동서 49명 탑승 노후 여객기 추락…생존자 없는 듯(종합2보)\n"
     ]
    },
    {
     "data": {
      "text/html": [
       "<img src=\"https://thumbnews.nateimg.co.kr/news90///news.nateimg.co.kr/orgImg/yt/2025/07/24/PAP20250724247801009_P2.jpg\"/>"
      ],
      "text/plain": [
       "<IPython.core.display.Image object>"
      ]
     },
     "metadata": {},
     "output_type": "display_data"
    },
    {
     "name": "stdout",
     "output_type": "stream",
     "text": [
      "https://news.nate.com/view/20250724n39215?mid=n0500\n",
      "스페인서 여성 전용 주차장 논란…남녀 모두 \"차별적\"\n"
     ]
    },
    {
     "data": {
      "text/html": [
       "<img src=\"https://thumbnews.nateimg.co.kr/news90///news.nateimg.co.kr/orgImg/yt/2025/07/24/AKR20250724177500081_01_i.jpg\"/>"
      ],
      "text/plain": [
       "<IPython.core.display.Image object>"
      ]
     },
     "metadata": {},
     "output_type": "display_data"
    },
    {
     "name": "stdout",
     "output_type": "stream",
     "text": [
      "https://news.nate.com/view/20250724n15775?mid=n0500\n",
      "\"모든 걸 훔친거냐?\" 中네티즌도 욕한 '흑백요리사 중국판'\n"
     ]
    },
    {
     "data": {
      "text/html": [
       "<img src=\"https://thumbnews.nateimg.co.kr/news90///news.nateimg.co.kr/orgImg/fn/2025/07/24/202507240926331323_l.jpg\"/>"
      ],
      "text/plain": [
       "<IPython.core.display.Image object>"
      ]
     },
     "metadata": {},
     "output_type": "display_data"
    },
    {
     "name": "stdout",
     "output_type": "stream",
     "text": [
      "https://news.nate.com/view/20250724n13792?mid=n0500\n",
      "\"휴가 못 가겠는데\" 日 홋카이도, 40도 육박…\"날씨가 재해 그 자체\"\n"
     ]
    },
    {
     "data": {
      "text/html": [
       "<img src=\"https://thumbnews.nateimg.co.kr/news90///news.nateimg.co.kr/orgImg/fn/2025/07/24/202507240919125231_l.jpg\"/>"
      ],
      "text/plain": [
       "<IPython.core.display.Image object>"
      ]
     },
     "metadata": {},
     "output_type": "display_data"
    },
    {
     "name": "stdout",
     "output_type": "stream",
     "text": [
      "https://news.nate.com/view/20250724n04504?mid=n0500\n",
      "中, 흑백요리사 베꼈나…넷플릭스 \"판권 판적 없다\"\n"
     ]
    },
    {
     "data": {
      "text/html": [
       "<img src=\"https://thumbnews.nateimg.co.kr/news90///news.nateimg.co.kr/orgImg/ns/2025/07/24/NISI20250724_0001901197_web.jpg\"/>"
      ],
      "text/plain": [
       "<IPython.core.display.Image object>"
      ]
     },
     "metadata": {},
     "output_type": "display_data"
    },
    {
     "name": "stdout",
     "output_type": "stream",
     "text": [
      "https://news.nate.com/view/20250724n01803?mid=n0500\n",
      "러·우크라 3차 협상, 큰 성과 없이 끝…포로 추가교환만 합의(종합)\n"
     ]
    },
    {
     "data": {
      "text/html": [
       "<img src=\"https://thumbnews.nateimg.co.kr/news90///news.nateimg.co.kr/orgImg/yt/2025/07/24/PRU20250724082101009_P2.jpg\"/>"
      ],
      "text/plain": [
       "<IPython.core.display.Image object>"
      ]
     },
     "metadata": {},
     "output_type": "display_data"
    },
    {
     "name": "stdout",
     "output_type": "stream",
     "text": [
      "https://news.nate.com/view/20250723n01093?mid=n0500\n",
      "\"크루아상 배달비만 70만원?\"…뉴욕 부자들 몰리는 '초고가 맞춤 택배' 뭐길래\n"
     ]
    },
    {
     "data": {
      "text/html": [
       "<img src=\"https://thumbnews.nateimg.co.kr/news90///news.nateimg.co.kr/orgImg/se/2025/07/23/2GVGL7XBNJ_1.jpg\"/>"
      ],
      "text/plain": [
       "<IPython.core.display.Image object>"
      ]
     },
     "metadata": {},
     "output_type": "display_data"
    },
    {
     "name": "stdout",
     "output_type": "stream",
     "text": [
      "======> https://news.nate.com/section?mid=n0300 경제 <======\n",
      "https://news.nate.com/view/20250725n04036?mid=n0300\n",
      "한·미 산업장관 80분 무역협상…김정관, 美고위급 연쇄 접촉\n"
     ]
    },
    {
     "data": {
      "text/html": [
       "<img src=\"https://thumbnews.nateimg.co.kr/news90///news.nateimg.co.kr/orgImg/jo/2025/07/25/79e098ca-41ea-482d-8fa4-dd5a4ea09143.jpg\"/>"
      ],
      "text/plain": [
       "<IPython.core.display.Image object>"
      ]
     },
     "metadata": {},
     "output_type": "display_data"
    },
    {
     "name": "stdout",
     "output_type": "stream",
     "text": [
      "https://news.nate.com/view/20250725n01238?mid=n0300\n",
      "건보 '무임승차' 8년새 2007만명→1576만명 급감한 이유\n"
     ]
    },
    {
     "data": {
      "text/html": [
       "<img src=\"https://thumbnews.nateimg.co.kr/news90///news.nateimg.co.kr/orgImg/jo/2025/07/25/2ce4b645-d150-4b87-9e97-1262594bb1d2.jpg\"/>"
      ],
      "text/plain": [
       "<IPython.core.display.Image object>"
      ]
     },
     "metadata": {},
     "output_type": "display_data"
    },
    {
     "name": "stdout",
     "output_type": "stream",
     "text": [
      "https://news.nate.com/view/20250724n18415?mid=n0300\n",
      "\"'칼졸업' 큰일\", \"첫 월급 300만원도 안돼\" 대학생들 '울상'\n"
     ]
    },
    {
     "data": {
      "text/html": [
       "<img src=\"https://thumbnews.nateimg.co.kr/news90///news.nateimg.co.kr/orgImg/ed/2025/07/24/PS25072400897.jpg\"/>"
      ],
      "text/plain": [
       "<IPython.core.display.Image object>"
      ]
     },
     "metadata": {},
     "output_type": "display_data"
    },
    {
     "name": "stdout",
     "output_type": "stream",
     "text": [
      "https://news.nate.com/view/20250724n09636?mid=n0300\n",
      "코스피, 3200선 탈환…美 관세협상·SK하이닉스 실적 영향\n"
     ]
    },
    {
     "data": {
      "text/html": [
       "<img src=\"https://thumbnews.nateimg.co.kr/news90///news.nateimg.co.kr/orgImg/sg/2025/07/24/20250724505623.jpg\"/>"
      ],
      "text/plain": [
       "<IPython.core.display.Image object>"
      ]
     },
     "metadata": {},
     "output_type": "display_data"
    },
    {
     "name": "stdout",
     "output_type": "stream",
     "text": [
      "https://news.nate.com/view/20250724n10785?mid=n0300\n",
      "\"이게 1만8000원이라고?\"…갈치구이 달랑 한 토막에 '충격'\n"
     ]
    },
    {
     "data": {
      "text/html": [
       "<img src=\"https://thumbnews.nateimg.co.kr/news90///news.nateimg.co.kr/orgImg/hk/2025/07/24/01.41207858.1.jpg\"/>"
      ],
      "text/plain": [
       "<IPython.core.display.Image object>"
      ]
     },
     "metadata": {},
     "output_type": "display_data"
    },
    {
     "name": "stdout",
     "output_type": "stream",
     "text": [
      "https://news.nate.com/view/20250724n04776?mid=n0300\n",
      "SK하이닉스 또 '사상 최고' 실적…분기 영업익 9조 넘었다\n"
     ]
    },
    {
     "data": {
      "text/html": [
       "<img src=\"https://thumbnews.nateimg.co.kr/news90///news.nateimg.co.kr/orgImg/hk/2025/07/24/AD.40667208.1.jpg\"/>"
      ],
      "text/plain": [
       "<IPython.core.display.Image object>"
      ]
     },
     "metadata": {},
     "output_type": "display_data"
    },
    {
     "name": "stdout",
     "output_type": "stream",
     "text": [
      "https://news.nate.com/view/20250724n07244?mid=n0300\n",
      "공인중개소, 문 연 곳보다 닫은 곳 더 많았다…신규 개업 700명 첫 붕괴\n"
     ]
    },
    {
     "data": {
      "text/html": [
       "<img src=\"https://thumbnews.nateimg.co.kr/news90///news.nateimg.co.kr/orgImg/na/2025/07/24/7360611_high.jpg\"/>"
      ],
      "text/plain": [
       "<IPython.core.display.Image object>"
      ]
     },
     "metadata": {},
     "output_type": "display_data"
    },
    {
     "name": "stdout",
     "output_type": "stream",
     "text": [
      "https://news.nate.com/view/20250724n00115?mid=n0300\n",
      "백만장자보다 귀한 비트코인 1개 보유자…\"전 세계 인구 0.02% 불과\"\n"
     ]
    },
    {
     "data": {
      "text/html": [
       "<img src=\"https://thumbnews.nateimg.co.kr/news90///news.nateimg.co.kr/orgImg/iu/2025/07/24/579223_541028_3745.png\"/>"
      ],
      "text/plain": [
       "<IPython.core.display.Image object>"
      ]
     },
     "metadata": {},
     "output_type": "display_data"
    },
    {
     "name": "stdout",
     "output_type": "stream",
     "text": [
      "https://news.nate.com/view/20250724n01372?mid=n0300\n",
      "국내 숙박료가 200만원?…\"이제는 진짜 못 참겠다\"\n"
     ]
    },
    {
     "data": {
      "text/html": [
       "<img src=\"https://thumbnews.nateimg.co.kr/news90///news.nateimg.co.kr/orgImg/sg/2025/07/24/20250724501062.jpg\"/>"
      ],
      "text/plain": [
       "<IPython.core.display.Image object>"
      ]
     },
     "metadata": {},
     "output_type": "display_data"
    },
    {
     "name": "stdout",
     "output_type": "stream",
     "text": [
      "https://news.nate.com/view/20250724n02192?mid=n0300\n",
      "[단독]배당소득 분리과세 최고세율 30%대로…'초부자 감세' 논란 이어질 듯\n"
     ]
    },
    {
     "data": {
      "text/html": [
       "<img src=\"https://thumbnews.nateimg.co.kr/news90///news.nateimg.co.kr/orgImg/kh/2025/07/24/news-p.v1.20250723.1d2fb21f02c543cead91c26c32ad61c5_P1.jpg\"/>"
      ],
      "text/plain": [
       "<IPython.core.display.Image object>"
      ]
     },
     "metadata": {},
     "output_type": "display_data"
    },
    {
     "name": "stdout",
     "output_type": "stream",
     "text": [
      "https://news.nate.com/view/20250724n01357?mid=n0300\n",
      "\"빚도 늙어간다\"…60대 이상 주담대 27%나 급증한 이유\n"
     ]
    },
    {
     "data": {
      "text/html": [
       "<img src=\"https://thumbnews.nateimg.co.kr/news90///news.nateimg.co.kr/orgImg/jo/2025/07/24/abaa3c83-f64a-49e5-8065-93f22a71473b.jpg\"/>"
      ],
      "text/plain": [
       "<IPython.core.display.Image object>"
      ]
     },
     "metadata": {},
     "output_type": "display_data"
    },
    {
     "name": "stdout",
     "output_type": "stream",
     "text": [
      "https://news.nate.com/view/20250724n02476?mid=n0300\n",
      "[단독]백종원, 가맹점주 '월세 카드 결제' 이자·수수료 전액 지원한다\n"
     ]
    },
    {
     "data": {
      "text/html": [
       "<img src=\"https://thumbnews.nateimg.co.kr/news90///news.nateimg.co.kr/orgImg/kh/2025/07/24/news-p.v1.20250723.240a9c7ff98449caaeb4cb595d725454_P1.jpeg\"/>"
      ],
      "text/plain": [
       "<IPython.core.display.Image object>"
      ]
     },
     "metadata": {},
     "output_type": "display_data"
    },
    {
     "name": "stdout",
     "output_type": "stream",
     "text": [
      "https://news.nate.com/view/20250724n00878?mid=n0300\n",
      "李정부 50일간 18% 상승…역대 최고 '증시 허니문'\n"
     ]
    },
    {
     "data": {
      "text/html": [
       "<img src=\"https://thumbnews.nateimg.co.kr/news90///news.nateimg.co.kr/orgImg/do/2025/07/24/132059940.1.png\"/>"
      ],
      "text/plain": [
       "<IPython.core.display.Image object>"
      ]
     },
     "metadata": {},
     "output_type": "display_data"
    },
    {
     "name": "stdout",
     "output_type": "stream",
     "text": [
      "https://news.nate.com/view/20250723n37173?mid=n0300\n",
      "[단독] 보증금 받으러 갔더니 \"난 명의만\"…'바지 임대인' 내세워 전세사기\n"
     ]
    },
    {
     "data": {
      "text/html": [
       "<img src=\"https://thumbnews.nateimg.co.kr/news90///news.nateimg.co.kr/orgImg/jt/2025/07/23/20250723192341552001.jpg\"/>"
      ],
      "text/plain": [
       "<IPython.core.display.Image object>"
      ]
     },
     "metadata": {},
     "output_type": "display_data"
    },
    {
     "name": "stdout",
     "output_type": "stream",
     "text": [
      "https://news.nate.com/view/20250723n22986?mid=n0300\n",
      "\"주가조작 패가망신\"…10월부터 과징금 더 세게 때린다\n"
     ]
    },
    {
     "data": {
      "text/html": [
       "<img src=\"https://thumbnews.nateimg.co.kr/news90///news.nateimg.co.kr/orgImg/hi/2025/07/23/ab4ec5fa-0769-4266-b79a-33fbb358d08b.jpg\"/>"
      ],
      "text/plain": [
       "<IPython.core.display.Image object>"
      ]
     },
     "metadata": {},
     "output_type": "display_data"
    },
    {
     "name": "stdout",
     "output_type": "stream",
     "text": [
      "======> https://news.nate.com/section?mid=n0200 정치 <======\n",
      "https://news.nate.com/view/20250725n03494?mid=n0200\n",
      "'VIP 격노설' 처음 입 연 이종섭 부관…\"尹 통화 원한다는 전화받아\"\n"
     ]
    },
    {
     "data": {
      "text/html": [
       "<img src=\"https://thumbnews.nateimg.co.kr/news90///news.nateimg.co.kr/orgImg/ny/2025/07/25/AKR20250725074226125_01_i.jpg\"/>"
      ],
      "text/plain": [
       "<IPython.core.display.Image object>"
      ]
     },
     "metadata": {},
     "output_type": "display_data"
    },
    {
     "name": "stdout",
     "output_type": "stream",
     "text": [
      "https://news.nate.com/view/20250725n00510?mid=n0200\n",
      "한동훈 불출마, 안철수·오세훈 회동…요동치는 野 전대\n"
     ]
    },
    {
     "data": {
      "text/html": [
       "<img src=\"https://thumbnews.nateimg.co.kr/news90///news.nateimg.co.kr/orgImg/ch/2025/07/25/ch_1753372865937_749642_0.jpg\"/>"
      ],
      "text/plain": [
       "<IPython.core.display.Image object>"
      ]
     },
     "metadata": {},
     "output_type": "display_data"
    },
    {
     "name": "stdout",
     "output_type": "stream",
     "text": [
      "https://news.nate.com/view/20250725n00465?mid=n0200\n",
      "李대통령, 이재용과 만찬…'대미 선물보따리' 협조 구한 듯\n"
     ]
    },
    {
     "data": {
      "text/html": [
       "<img src=\"https://thumbnews.nateimg.co.kr/news90///news.nateimg.co.kr/orgImg/ch/2025/07/25/ch_1753388224390_124694_0.jpg\"/>"
      ],
      "text/plain": [
       "<IPython.core.display.Image object>"
      ]
     },
     "metadata": {},
     "output_type": "display_data"
    },
    {
     "name": "stdout",
     "output_type": "stream",
     "text": [
      "https://news.nate.com/view/20250725n00482?mid=n0200\n",
      "\"北이 지난해 먼저 대남 방송 끊었다\"\n"
     ]
    },
    {
     "data": {
      "text/html": [
       "<img src=\"https://thumbnews.nateimg.co.kr/news90///news.nateimg.co.kr/orgImg/ch/2025/07/25/ch_1753372624355_962442_0.jpg\"/>"
      ],
      "text/plain": [
       "<IPython.core.display.Image object>"
      ]
     },
     "metadata": {},
     "output_type": "display_data"
    },
    {
     "name": "stdout",
     "output_type": "stream",
     "text": [
      "https://news.nate.com/view/20250725n01318?mid=n0200\n",
      "[단독]드론사, 국과연에 \"무인기 가용한 물량 다 달라\" 무작정 요청\n"
     ]
    },
    {
     "data": {
      "text/html": [
       "<img src=\"https://thumbnews.nateimg.co.kr/news90///news.nateimg.co.kr/orgImg/cb/2025/07/25/202507242139413037_0.jpg\"/>"
      ],
      "text/plain": [
       "<IPython.core.display.Image object>"
      ]
     },
     "metadata": {},
     "output_type": "display_data"
    },
    {
     "name": "stdout",
     "output_type": "stream",
     "text": [
      "https://news.nate.com/view/20250725n00855?mid=n0200\n",
      "尹 '재판 보이콧' 재구속후 3차례 모두 불출석…특검, 구인영장 요청\n"
     ]
    },
    {
     "data": {
      "text/html": [
       "<img src=\"https://thumbnews.nateimg.co.kr/news90///news.nateimg.co.kr/orgImg/do/2025/07/25/131999429.1.jpg\"/>"
      ],
      "text/plain": [
       "<IPython.core.display.Image object>"
      ]
     },
     "metadata": {},
     "output_type": "display_data"
    },
    {
     "name": "stdout",
     "output_type": "stream",
     "text": [
      "https://news.nate.com/view/20250725n00454?mid=n0200\n",
      "폭우 피해 막았는데…'4대강' 원점 돌리겠다는 환경장관\n"
     ]
    },
    {
     "data": {
      "text/html": [
       "<img src=\"https://thumbnews.nateimg.co.kr/news90///news.nateimg.co.kr/orgImg/ch/2025/07/25/ch_1753392785122_310982_0.jpg\"/>"
      ],
      "text/plain": [
       "<IPython.core.display.Image object>"
      ]
     },
     "metadata": {},
     "output_type": "display_data"
    },
    {
     "name": "stdout",
     "output_type": "stream",
     "text": [
      "https://news.nate.com/view/20250725n01062?mid=n0200\n",
      "[단독] '北은 외국인가' 일제 형법까지 분석…특검 '尹 외환죄' 적용 의지\n"
     ]
    },
    {
     "data": {
      "text/html": [
       "<img src=\"https://thumbnews.nateimg.co.kr/news90///news.nateimg.co.kr/orgImg/hi/2025/07/25/58a48386-1152-46ac-ad85-7f010dc3f324.jpg\"/>"
      ],
      "text/plain": [
       "<IPython.core.display.Image object>"
      ]
     },
     "metadata": {},
     "output_type": "display_data"
    },
    {
     "name": "stdout",
     "output_type": "stream",
     "text": [
      "https://news.nate.com/view/20250724n39855?mid=n0200\n",
      "홍준표, 한동훈 향해 직격···\"날 더우니 별의별 X이 설쳐, 우리나라엔 극우 없다\"\n"
     ]
    },
    {
     "data": {
      "text/html": [
       "<img src=\"https://thumbnews.nateimg.co.kr/news90///news.nateimg.co.kr/orgImg/se/2025/07/24/2GVH4GPWXU_2.jpg\"/>"
      ],
      "text/plain": [
       "<IPython.core.display.Image object>"
      ]
     },
     "metadata": {},
     "output_type": "display_data"
    },
    {
     "name": "stdout",
     "output_type": "stream",
     "text": [
      "https://news.nate.com/view/20250724n41135?mid=n0200\n",
      "[단독] 한국 수송기 일본 영공 진입 시도에…전투기 출격 일촉즉발\n"
     ]
    },
    {
     "data": {
      "text/html": [
       "<img src=\"https://thumbnews.nateimg.co.kr/news90///news.nateimg.co.kr/orgImg/sv/2025/07/24/202094703_700.jpg\"/>"
      ],
      "text/plain": [
       "<IPython.core.display.Image object>"
      ]
     },
     "metadata": {},
     "output_type": "display_data"
    },
    {
     "name": "stdout",
     "output_type": "stream",
     "text": [
      "https://news.nate.com/view/20250724n30896?mid=n0200\n",
      "'강선우 지지' 정청래 vs '사퇴 촉구' 박찬대…정반대 선택 왜\n"
     ]
    },
    {
     "data": {
      "text/html": [
       "<img src=\"https://thumbnews.nateimg.co.kr/news90///news.nateimg.co.kr/orgImg/jo/2025/07/24/328d6f35-c3e3-43e2-ac09-a4966e11c1d9.jpg\"/>"
      ],
      "text/plain": [
       "<IPython.core.display.Image object>"
      ]
     },
     "metadata": {},
     "output_type": "display_data"
    },
    {
     "name": "stdout",
     "output_type": "stream",
     "text": [
      "https://news.nate.com/view/20250724n27072?mid=n0200\n",
      "[단독]'시정 홍보용'이라는 '오세훈TV'···2019년 만든 개인채널이었다\n"
     ]
    },
    {
     "data": {
      "text/html": [
       "<img src=\"https://thumbnews.nateimg.co.kr/news90///news.nateimg.co.kr/orgImg/kh/2025/07/24/news-p.v1.20250724.2c79dd17d5bf413d824d65d4966dd0c8_P1.png\"/>"
      ],
      "text/plain": [
       "<IPython.core.display.Image object>"
      ]
     },
     "metadata": {},
     "output_type": "display_data"
    },
    {
     "name": "stdout",
     "output_type": "stream",
     "text": [
      "https://news.nate.com/view/20250724n17639?mid=n0200\n",
      "李 \"그럴 것 같다고 말라, 모르면 모른다고 해라\"···달라진 국무회의\n"
     ]
    },
    {
     "data": {
      "text/html": [
       "<img src=\"https://thumbnews.nateimg.co.kr/news90///news.nateimg.co.kr/orgImg/se/2025/07/24/2GVH3UCQ4T_1.jpg\"/>"
      ],
      "text/plain": [
       "<IPython.core.display.Image object>"
      ]
     },
     "metadata": {},
     "output_type": "display_data"
    },
    {
     "name": "stdout",
     "output_type": "stream",
     "text": [
      "https://news.nate.com/view/20250724n13940?mid=n0200\n",
      "경주APEC에 김정은 부른다?…정부 \"의장국 주도로 비회원국 초청 가능\"\n"
     ]
    },
    {
     "data": {
      "text/html": [
       "<img src=\"https://thumbnews.nateimg.co.kr/news90///news.nateimg.co.kr/orgImg/mt/2025/07/24/2025072410392839834_1.jpg\"/>"
      ],
      "text/plain": [
       "<IPython.core.display.Image object>"
      ]
     },
     "metadata": {},
     "output_type": "display_data"
    },
    {
     "name": "stdout",
     "output_type": "stream",
     "text": [
      "https://news.nate.com/view/20250724n14059?mid=n0200\n",
      "정성호 법무 첫 검사장 인사 임박…'특수통' 가고 '형사통'으로 물갈이\n"
     ]
    },
    {
     "data": {
      "text/html": [
       "<img src=\"https://thumbnews.nateimg.co.kr/news90///news.nateimg.co.kr/orgImg/na/2025/07/24/7404449_high.jpg\"/>"
      ],
      "text/plain": [
       "<IPython.core.display.Image object>"
      ]
     },
     "metadata": {},
     "output_type": "display_data"
    },
    {
     "name": "stdout",
     "output_type": "stream",
     "text": [
      "======> https://news.nate.com/section?mid=n0600 IT/과학 <======\n",
      "https://news.nate.com/view/20250725n02383?mid=n0600\n",
      "스페이스X 위성인터넷 스타링크 접속장애…머스크 \"곧 해결할것\"\n"
     ]
    },
    {
     "data": {
      "text/html": [
       "<img src=\"https://thumbnews.nateimg.co.kr/news90///news.nateimg.co.kr/orgImg/yt/2025/07/25/PRU20250717036101009_P2.jpg\"/>"
      ],
      "text/plain": [
       "<IPython.core.display.Image object>"
      ]
     },
     "metadata": {},
     "output_type": "display_data"
    },
    {
     "name": "stdout",
     "output_type": "stream",
     "text": [
      "https://news.nate.com/view/20250725n02294?mid=n0600\n",
      "'멀티모달'의 엔씨·'게임 특화' 크래프톤…국대 AI 선발전 출사표\n"
     ]
    },
    {
     "data": {
      "text/html": [
       "<img src=\"https://thumbnews.nateimg.co.kr/news90///news.nateimg.co.kr/orgImg/mt/2025/07/25/2025072415105068746_1.jpg\"/>"
      ],
      "text/plain": [
       "<IPython.core.display.Image object>"
      ]
     },
     "metadata": {},
     "output_type": "display_data"
    },
    {
     "name": "stdout",
     "output_type": "stream",
     "text": [
      "https://news.nate.com/view/20250725n01167?mid=n0600\n",
      "\"삼성폰보다 더 얇다더니\"…中폴더블폰, 낯 '두꺼운' 거짓말 들통\n"
     ]
    },
    {
     "data": {
      "text/html": [
       "<img src=\"https://thumbnews.nateimg.co.kr/news90///news.nateimg.co.kr/orgImg/mt/2025/07/25/2025072418260644280_1.jpg\"/>"
      ],
      "text/plain": [
       "<IPython.core.display.Image object>"
      ]
     },
     "metadata": {},
     "output_type": "display_data"
    },
    {
     "name": "stdout",
     "output_type": "stream",
     "text": [
      "https://news.nate.com/view/20250724n26720?mid=n0600\n",
      "\"공짜폰에 현금까지\" 보조금 전쟁 시작…지갑 열리나\n"
     ]
    },
    {
     "data": {
      "text/html": [
       "<img src=\"https://thumbnews.nateimg.co.kr/news90///news.nateimg.co.kr/orgImg/ed/2025/07/24/PS25072401111.jpg\"/>"
      ],
      "text/plain": [
       "<IPython.core.display.Image object>"
      ]
     },
     "metadata": {},
     "output_type": "display_data"
    },
    {
     "name": "stdout",
     "output_type": "stream",
     "text": [
      "https://news.nate.com/view/20250724n24870?mid=n0600\n",
      "\"이게 된다고?\" 노화 근육 되살린다…세계 최초 '근육 회복 단백질' 발견\n"
     ]
    },
    {
     "data": {
      "text/html": [
       "<img src=\"https://thumbnews.nateimg.co.kr/news90///news.nateimg.co.kr/orgImg/hr/2025/07/24/news-p.v1.20250724.52f768a776a445769187d595ea2ec286_P1.jpg\"/>"
      ],
      "text/plain": [
       "<IPython.core.display.Image object>"
      ]
     },
     "metadata": {},
     "output_type": "display_data"
    }
   ],
   "source": [
    "for section in section_dict.keys():\n",
    "    print_news(section)"
   ]
  },
  {
   "cell_type": "code",
   "execution_count": 1,
   "id": "d014fd56",
   "metadata": {},
   "outputs": [
    {
     "name": "stderr",
     "output_type": "stream",
     "text": [
      "<string>:7: SyntaxWarning: invalid escape sequence '\\{'\n",
      "<string>:7: SyntaxWarning: invalid escape sequence '\\{'\n",
      "<>:7: SyntaxWarning: invalid escape sequence '\\{'\n",
      "<>:7: SyntaxWarning: invalid escape sequence '\\{'\n",
      "<string>:7: SyntaxWarning: invalid escape sequence '\\{'\n",
      "<string>:7: SyntaxWarning: invalid escape sequence '\\{'\n",
      "<>:7: SyntaxWarning: invalid escape sequence '\\{'\n",
      "<>:7: SyntaxWarning: invalid escape sequence '\\{'\n",
      "C:\\Users\\user\\AppData\\Local\\Temp\\ipykernel_3904\\3155844700.py:7: SyntaxWarning: invalid escape sequence '\\{'\n",
      "  imgdir_name = f'img\\{title}\\{no}'\n",
      "C:\\Users\\user\\AppData\\Local\\Temp\\ipykernel_3904\\3155844700.py:7: SyntaxWarning: invalid escape sequence '\\{'\n",
      "  imgdir_name = f'img\\{title}\\{no}'\n"
     ]
    }
   ],
   "source": [
    "# 2-2\n",
    "import os\n",
    "\n",
    "def download_one_episode(title, no, url):\n",
    "    # 기본 설정\n",
    "    req_header = {'referer': url}\n",
    "    imgdir_name = f'img\\{title}\\{no}'\n",
    "\n",
    "    # 이미지 저장 폴더가 없으면 생성\n",
    "    os.makedirs(imgdir_name, exist_ok=True)\n",
    "\n",
    "    # 웹 페이지 요청 및 확인\n",
    "    res = requests.get(url)\n",
    "    if not res.ok:\n",
    "        print(f'Error Code = {res.status_code}')\n",
    "        exit()\n",
    "\n",
    "    # 이미지 url 추출\n",
    "    soup = BeautifulSoup(res.text, 'html.parser')\n",
    "    img_url_list = [img_tag['src'] for img_tag in soup.select(\"img[src*='IMAG01']\")]\n",
    "\n",
    "    # 이미지 다운로드\n",
    "    for img_url in img_url_list:\n",
    "        res = requests.get(img_url, headers=req_header)\n",
    "        if res.ok:\n",
    "            img_data = res.content\n",
    "            file_path = os.path.join(imgdir_name, os.path.basename(img_url))\n",
    "            with open(file_path, 'wb') as file:\n",
    "                # print(f'Writing to {file_path}({len(img_data):,} bytes)')\n",
    "                file.write(img_data)\n",
    "        else:\n",
    "            print(f'Error Code = {res.status_code} for {img_url}')"
   ]
  },
  {
   "cell_type": "code",
   "execution_count": 53,
   "id": "f57c41b4",
   "metadata": {},
   "outputs": [],
   "source": [
    "download_one_episode('마왕까지 한 걸음',215,'https://comic.naver.com/webtoon/detail?titleId=776668&no=215&week=thu')"
   ]
  }
 ],
 "metadata": {
  "kernelspec": {
   "display_name": "base",
   "language": "python",
   "name": "python3"
  },
  "language_info": {
   "codemirror_mode": {
    "name": "ipython",
    "version": 3
   },
   "file_extension": ".py",
   "mimetype": "text/x-python",
   "name": "python",
   "nbconvert_exporter": "python",
   "pygments_lexer": "ipython3",
   "version": "3.12.7"
  }
 },
 "nbformat": 4,
 "nbformat_minor": 5
}
