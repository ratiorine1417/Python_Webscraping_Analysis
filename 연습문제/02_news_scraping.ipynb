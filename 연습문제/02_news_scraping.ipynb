{
 "cells": [
  {
   "cell_type": "code",
   "execution_count": 41,
   "id": "ef94f2b4",
   "metadata": {},
   "outputs": [],
   "source": [
    "# reqeusts, bs4 import\n",
    "import requests\n",
    "# BeautifulSoup 클래스 import\n",
    "from bs4 import BeautifulSoup\n",
    "from IPython.display import Image, display\n",
    "from urllib.parse import urljoin"
   ]
  },
  {
   "cell_type": "code",
   "execution_count": 49,
   "id": "f0092cf6",
   "metadata": {},
   "outputs": [],
   "source": [
    "# 2-1\n",
    "section_dict = {'최신뉴스': 100,'사회': 400,'세계': 500,\n",
    "                '경제': 300,'정치': 200,'IT/과학': 600}\n",
    "\n",
    "def print_news(section_name):\n",
    "    sid = section_dict[section_name]\n",
    "    section = 'section'\n",
    "    if section_name == '최신뉴스':\n",
    "        section = 'recent'\n",
    "    url = f'https://news.nate.com/{section}?mid=n0{sid}'\n",
    "    print(f'======> {url} {section_name} <======')\n",
    "\n",
    "    # 요청 헤더 설정 : 브라우저 정보\n",
    "    req_header = {\n",
    "        \"user-agent\": \"Mozilla/5.0 (Windows NT 10.0; Win64; x64) AppleWebKit/537.36 (KHTML, like Gecko) Chrome/138.0.0.0 Safari/537.36\"\n",
    "    }\n",
    "    # requests 의 get() 함수 호출하기\n",
    "    res = requests.get(url, headers=req_header)\n",
    "        \n",
    "    if (res.ok):\n",
    "        html = res.text\n",
    "        # BeautifulSoup 객체 생성\n",
    "        soup = BeautifulSoup(html, \"html.parser\")\n",
    "\n",
    "        a_tags = soup.select(\"div.mlt01 a\")\n",
    "        \n",
    "        for a_tag in a_tags:\n",
    "            link = a_tag['href'] # 링크\n",
    "            span_tag = a_tag.select_one('span.tb h2.tit')\n",
    "            title = span_tag.text.strip() # 제목\n",
    "            img_tag = a_tag.select_one('span.ib img')\n",
    "            # print(img_tag)\n",
    "            # img tag가 없을 시 None으로 나옴\n",
    "            if img_tag:\n",
    "                img_url = img_tag['src']\n",
    "                url_join = urljoin(base=url, url=img_url, allow_fragments=True)\n",
    "                img = Image(url=url_join)\n",
    "                display(img)\n",
    "            print(f'{link}\\n{title}')\n",
    "    else:\n",
    "        # 응답(response)이 Error 이면 status code 출력  \n",
    "        print(f'Error Code = {res.status_code}')"
   ]
  },
  {
   "cell_type": "code",
   "execution_count": 50,
   "id": "0f09532f",
   "metadata": {},
   "outputs": [
    {
     "name": "stdout",
     "output_type": "stream",
     "text": [
      "======> https://news.nate.com/recent?mid=n0100 최신뉴스 <======\n"
     ]
    },
    {
     "data": {
      "text/html": [
       "<img src=\"https://thumbnews.nateimg.co.kr/news90///news.nateimg.co.kr/orgImg/jo/2025/07/24/f3f6c0ad-9345-4719-845a-51f7843a706a.jpg\"/>"
      ],
      "text/plain": [
       "<IPython.core.display.Image object>"
      ]
     },
     "metadata": {},
     "output_type": "display_data"
    },
    {
     "name": "stdout",
     "output_type": "stream",
     "text": [
      "//news.nate.com/view/20250724n00596?mid=n0100\n",
      "[속보] 트럼프 \"시장개방 안 하는 나라엔 훨씬 더 높은 관세\"\n"
     ]
    },
    {
     "data": {
      "text/html": [
       "<img src=\"https://thumbnews.nateimg.co.kr/news90///news.nateimg.co.kr/orgImg/sp/2025/07/24/news-p.v1.20250724.5b8ebaf234324b5e8a7d3ca9c37120a3_P1.png\"/>"
      ],
      "text/plain": [
       "<IPython.core.display.Image object>"
      ]
     },
     "metadata": {},
     "output_type": "display_data"
    },
    {
     "name": "stdout",
     "output_type": "stream",
     "text": [
      "//news.nate.com/view/20250724n00595?mid=n0100\n",
      "건물주라 자취도 럭셔리?…이국주, 日생활논란에 '정면돌파!'\n"
     ]
    },
    {
     "data": {
      "text/html": [
       "<img src=\"https://thumbnews.nateimg.co.kr/news90///news.nateimg.co.kr/orgImg/ed/2025/07/24/PS25072400012.jpg\"/>"
      ],
      "text/plain": [
       "<IPython.core.display.Image object>"
      ]
     },
     "metadata": {},
     "output_type": "display_data"
    },
    {
     "name": "stdout",
     "output_type": "stream",
     "text": [
      "//news.nate.com/view/20250724n00591?mid=n0100\n",
      "\"EU, 美와 15% 관세  무역합의 진전…자동차도 포함\"-블룸버그\n"
     ]
    },
    {
     "data": {
      "text/html": [
       "<img src=\"https://thumbnews.nateimg.co.kr/news90///news.nateimg.co.kr/orgImg/pt/2025/07/24/202507232233778879_6880e6cc68375.jpeg\"/>"
      ],
      "text/plain": [
       "<IPython.core.display.Image object>"
      ]
     },
     "metadata": {},
     "output_type": "display_data"
    },
    {
     "name": "stdout",
     "output_type": "stream",
     "text": [
      "//news.nate.com/view/20250724n00590?mid=n0100\n",
      "'폭싹 젖었수다' 마무리 앞장서다, 안경 에이스 10승 축하 물벼락 '세상에서 가장 기분좋은 물벼락'\n"
     ]
    },
    {
     "data": {
      "text/html": [
       "<img src=\"https://thumbnews.nateimg.co.kr/news90///news.nateimg.co.kr/orgImg/my/2025/07/24/2025072316340046653_l.png\"/>"
      ],
      "text/plain": [
       "<IPython.core.display.Image object>"
      ]
     },
     "metadata": {},
     "output_type": "display_data"
    },
    {
     "name": "stdout",
     "output_type": "stream",
     "text": [
      "//news.nate.com/view/20250724n00589?mid=n0100\n",
      "권은비, 파격 노출 '워터밤'→완벽 봉쇄 등산으로…\"등산은 힐링이지\"\n"
     ]
    },
    {
     "data": {
      "text/html": [
       "<img src=\"https://thumbnews.nateimg.co.kr/news90///news.nateimg.co.kr/orgImg/iz/2025/07/24/16b30ba9-42ac-4cb4-af1f-897c7b95dffa.jpg\"/>"
      ],
      "text/plain": [
       "<IPython.core.display.Image object>"
      ]
     },
     "metadata": {},
     "output_type": "display_data"
    },
    {
     "name": "stdout",
     "output_type": "stream",
     "text": [
      "//news.nate.com/view/20250724n00588?mid=n0100\n",
      "전청조→고유정 수감…교도관 \"수용자간 펜팔로 체모, 체액 전달\" (유퀴즈)\n"
     ]
    },
    {
     "data": {
      "text/html": [
       "<img src=\"https://thumbnews.nateimg.co.kr/news90///news.nateimg.co.kr/orgImg/sg/2025/07/24/20250724500443.jpg\"/>"
      ],
      "text/plain": [
       "<IPython.core.display.Image object>"
      ]
     },
     "metadata": {},
     "output_type": "display_data"
    },
    {
     "name": "stdout",
     "output_type": "stream",
     "text": [
      "//news.nate.com/view/20250724n00558?mid=n0100\n",
      "동대문구 이문동서 깊이 2.5ｍ 땅꺼짐…주민 35명 대피\n"
     ]
    },
    {
     "data": {
      "text/html": [
       "<img src=\"https://thumbnews.nateimg.co.kr/news90///news.nateimg.co.kr/orgImg/pt/2025/07/24/202507240054774857_688105eed82e4.jpg\"/>"
      ],
      "text/plain": [
       "<IPython.core.display.Image object>"
      ]
     },
     "metadata": {},
     "output_type": "display_data"
    },
    {
     "name": "stdout",
     "output_type": "stream",
     "text": [
      "//news.nate.com/view/20250724n00586?mid=n0100\n",
      "\"난 올스타전 안 뛰어!\" 슈퍼스타 메시 돌발행동에 당황한 MLS \"안 뛰면 징계 준다\"\n"
     ]
    },
    {
     "data": {
      "text/html": [
       "<img src=\"https://thumbnews.nateimg.co.kr/news90///news.nateimg.co.kr/orgImg/yt/2025/07/24/PCM20230824000052990_P2.jpg\"/>"
      ],
      "text/plain": [
       "<IPython.core.display.Image object>"
      ]
     },
     "metadata": {},
     "output_type": "display_data"
    },
    {
     "name": "stdout",
     "output_type": "stream",
     "text": [
      "//news.nate.com/view/20250724n00581?mid=n0100\n",
      "[속보] 트럼프 \"시장개방 안 하는 나라엔 훨씬 더 높은 관세\"\n"
     ]
    },
    {
     "data": {
      "text/html": [
       "<img src=\"https://thumbnews.nateimg.co.kr/news90///news.nateimg.co.kr/orgImg/kx/2025/07/24/2025072320250316658_1753269903_1753256420.jpg\"/>"
      ],
      "text/plain": [
       "<IPython.core.display.Image object>"
      ]
     },
     "metadata": {},
     "output_type": "display_data"
    },
    {
     "name": "stdout",
     "output_type": "stream",
     "text": [
      "//news.nate.com/view/20250724n00582?mid=n0100\n",
      "[사설] 준비 미흡한 APEC, 역량 총동원해 반전시켜야\n"
     ]
    },
    {
     "data": {
      "text/html": [
       "<img src=\"https://thumbnews.nateimg.co.kr/news90///news.nateimg.co.kr/orgImg/my/2025/07/24/2025052121305482701_l.jpg\"/>"
      ],
      "text/plain": [
       "<IPython.core.display.Image object>"
      ]
     },
     "metadata": {},
     "output_type": "display_data"
    },
    {
     "name": "stdout",
     "output_type": "stream",
     "text": [
      "//news.nate.com/view/20250724n00577?mid=n0100\n",
      "대미지 덜 입으려면 오늘 경기 중요하다 했지만…결과는 또 새드엔딩, 필승조가 수상하다 [MD광주]\n"
     ]
    },
    {
     "data": {
      "text/html": [
       "<img src=\"https://thumbnews.nateimg.co.kr/news90///news.nateimg.co.kr/orgImg/jo/2025/07/24/1782c033-62d7-4515-900c-e9d127af2543.jpg\"/>"
      ],
      "text/plain": [
       "<IPython.core.display.Image object>"
      ]
     },
     "metadata": {},
     "output_type": "display_data"
    },
    {
     "name": "stdout",
     "output_type": "stream",
     "text": [
      "//news.nate.com/view/20250724n00238?mid=n0100\n",
      "'소비쿠폰 색깔 논란'에…광주 공무원들, 밤샘 스티커 작업\n"
     ]
    },
    {
     "data": {
      "text/html": [
       "<img src=\"https://thumbnews.nateimg.co.kr/news90///news.nateimg.co.kr/orgImg/bt/2025/07/24/640753_248668_1739.jpg\"/>"
      ],
      "text/plain": [
       "<IPython.core.display.Image object>"
      ]
     },
     "metadata": {},
     "output_type": "display_data"
    },
    {
     "name": "stdout",
     "output_type": "stream",
     "text": [
      "//news.nate.com/view/20250724n00573?mid=n0100\n",
      "미·일 협상 타결…트럼프, 일본에 미국산 자동차 수입 확대 압박\n"
     ]
    },
    {
     "data": {
      "text/html": [
       "<img src=\"https://thumbnews.nateimg.co.kr/news90///news.nateimg.co.kr/orgImg/na/2025/07/24/7386214_high.jpg\"/>"
      ],
      "text/plain": [
       "<IPython.core.display.Image object>"
      ]
     },
     "metadata": {},
     "output_type": "display_data"
    },
    {
     "name": "stdout",
     "output_type": "stream",
     "text": [
      "//news.nate.com/view/20250724n00572?mid=n0100\n",
      "\"美-EU, 15% 관세 협상 타결 임박\"\n"
     ]
    },
    {
     "data": {
      "text/html": [
       "<img src=\"https://thumbnews.nateimg.co.kr/news90///news.nateimg.co.kr/orgImg/jo/2025/07/24/3a7b55c8-f0fd-4492-9f8f-9279b46ecc91.jpg\"/>"
      ],
      "text/plain": [
       "<IPython.core.display.Image object>"
      ]
     },
     "metadata": {},
     "output_type": "display_data"
    },
    {
     "name": "stdout",
     "output_type": "stream",
     "text": [
      "//news.nate.com/view/20250724n00571?mid=n0100\n",
      "프랑스, 2차 대전 이래 처음으로 사망자 수가 출생자 앞질러\n"
     ]
    },
    {
     "data": {
      "text/html": [
       "<img src=\"https://thumbnews.nateimg.co.kr/news90///news.nateimg.co.kr/orgImg/my/2025/07/24/2025072319525342751_l.jpg\"/>"
      ],
      "text/plain": [
       "<IPython.core.display.Image object>"
      ]
     },
     "metadata": {},
     "output_type": "display_data"
    },
    {
     "name": "stdout",
     "output_type": "stream",
     "text": [
      "//news.nate.com/view/20250724n00570?mid=n0100\n",
      "선우용여, 풍자 가슴 덥석 잡더니…\"너무 크지만, 없는 것보다 나아\"\n"
     ]
    },
    {
     "data": {
      "text/html": [
       "<img src=\"https://thumbnews.nateimg.co.kr/news90///news.nateimg.co.kr/orgImg/ed/2025/07/24/PS25072400011.jpg\"/>"
      ],
      "text/plain": [
       "<IPython.core.display.Image object>"
      ]
     },
     "metadata": {},
     "output_type": "display_data"
    },
    {
     "name": "stdout",
     "output_type": "stream",
     "text": [
      "//news.nate.com/view/20250724n00567?mid=n0100\n",
      "트럼프 책상 위 '일본 무역합의' 카드, 마커로 숫자 고쳤다\n"
     ]
    },
    {
     "data": {
      "text/html": [
       "<img src=\"https://thumbnews.nateimg.co.kr/news90///news.nateimg.co.kr/orgImg/sv/2025/07/24/202094344_700.jpg\"/>"
      ],
      "text/plain": [
       "<IPython.core.display.Image object>"
      ]
     },
     "metadata": {},
     "output_type": "display_data"
    },
    {
     "name": "stdout",
     "output_type": "stream",
     "text": [
      "//news.nate.com/view/20250724n00545?mid=n0100\n",
      "혁신안 논의 또 불발…장동혁 · 주진우 출마 선언\n"
     ]
    },
    {
     "data": {
      "text/html": [
       "<img src=\"https://thumbnews.nateimg.co.kr/news90///news.nateimg.co.kr/orgImg/ns/2025/07/24/NISI20250724_0001901170_web.jpg\"/>"
      ],
      "text/plain": [
       "<IPython.core.display.Image object>"
      ]
     },
     "metadata": {},
     "output_type": "display_data"
    },
    {
     "name": "stdout",
     "output_type": "stream",
     "text": [
      "//news.nate.com/view/20250724n00563?mid=n0100\n",
      "관세협상 가세한 산업장관 \"미일 합의 면밀 검토해 대응\"\n"
     ]
    },
    {
     "data": {
      "text/html": [
       "<img src=\"https://thumbnews.nateimg.co.kr/news90///news.nateimg.co.kr/orgImg/nt/2025/07/24/1753286936688109188e328.jpg\"/>"
      ],
      "text/plain": [
       "<IPython.core.display.Image object>"
      ]
     },
     "metadata": {},
     "output_type": "display_data"
    },
    {
     "name": "stdout",
     "output_type": "stream",
     "text": [
      "//news.nate.com/view/20250724n00562?mid=n0100\n",
      "서울 동대문구 공사장서 2m 지반 침하…주민 35명 대피\n",
      "======> https://news.nate.com/section?mid=n0400 사회 <======\n"
     ]
    },
    {
     "data": {
      "text/html": [
       "<img src=\"https://thumbnews.nateimg.co.kr/news90///news.nateimg.co.kr/orgImg/ch/2025/07/23/ch_1753279205917_999459_0.jpg\"/>"
      ],
      "text/plain": [
       "<IPython.core.display.Image object>"
      ]
     },
     "metadata": {},
     "output_type": "display_data"
    },
    {
     "name": "stdout",
     "output_type": "stream",
     "text": [
      "//news.nate.com/view/20250723n39191?mid=n0400\n",
      "아들 총기살해범이 설치한 사제폭탄, 장갑차도 날릴 수준\n"
     ]
    },
    {
     "data": {
      "text/html": [
       "<img src=\"https://thumbnews.nateimg.co.kr/news90///news.nateimg.co.kr/orgImg/na/2025/07/23/1494697_article.jpg\"/>"
      ],
      "text/plain": [
       "<IPython.core.display.Image object>"
      ]
     },
     "metadata": {},
     "output_type": "display_data"
    },
    {
     "name": "stdout",
     "output_type": "stream",
     "text": [
      "//news.nate.com/view/20250723n39364?mid=n0400\n",
      "\"어린이집 교사가 생후 19개월 학대\" 고소장 접수…경찰 수사\n"
     ]
    },
    {
     "data": {
      "text/html": [
       "<img src=\"https://thumbnews.nateimg.co.kr/news90///news.nateimg.co.kr/orgImg/sv/2025/07/23/202094252_700.jpg\"/>"
      ],
      "text/plain": [
       "<IPython.core.display.Image object>"
      ]
     },
     "metadata": {},
     "output_type": "display_data"
    },
    {
     "name": "stdout",
     "output_type": "stream",
     "text": [
      "//news.nate.com/view/20250723n37240?mid=n0400\n",
      "[단독] '통일교 2인자' 수첩 확보…\"김건희에 청탁 통화\"\n"
     ]
    },
    {
     "data": {
      "text/html": [
       "<img src=\"https://thumbnews.nateimg.co.kr/news90///news.nateimg.co.kr/orgImg/yn/2025/07/23/202507232021095315_t.jpg\"/>"
      ],
      "text/plain": [
       "<IPython.core.display.Image object>"
      ]
     },
     "metadata": {},
     "output_type": "display_data"
    },
    {
     "name": "stdout",
     "output_type": "stream",
     "text": [
      "//news.nate.com/view/20250723n37659?mid=n0400\n",
      "36주 태아 낙태…\"제왕절개 출산 뒤 냉동고에 살해\"\n"
     ]
    },
    {
     "data": {
      "text/html": [
       "<img src=\"https://thumbnews.nateimg.co.kr/news90///news.nateimg.co.kr/orgImg/ns/2025/07/23/NISI20250723_0020901004_web.jpg\"/>"
      ],
      "text/plain": [
       "<IPython.core.display.Image object>"
      ]
     },
     "metadata": {},
     "output_type": "display_data"
    },
    {
     "name": "stdout",
     "output_type": "stream",
     "text": [
      "//news.nate.com/view/20250723n38008?mid=n0400\n",
      "대학 합의 안됐나…교육부, 내일 의대생 복귀 방안 발표 돌연 취소\n"
     ]
    },
    {
     "data": {
      "text/html": [
       "<img src=\"https://thumbnews.nateimg.co.kr/news90///news.nateimg.co.kr/orgImg/yn/2025/07/23/202507232040154567_t.jpg\"/>"
      ],
      "text/plain": [
       "<IPython.core.display.Image object>"
      ]
     },
     "metadata": {},
     "output_type": "display_data"
    },
    {
     "name": "stdout",
     "output_type": "stream",
     "text": [
      "//news.nate.com/view/20250723n37946?mid=n0400\n",
      "다시 찾아온 '가마솥 더위'…주 후반 더 '펄펄' 끓는다\n"
     ]
    },
    {
     "data": {
      "text/html": [
       "<img src=\"https://thumbnews.nateimg.co.kr/news90///news.nateimg.co.kr/orgImg/na/2025/07/23/7069184_high.jpg\"/>"
      ],
      "text/plain": [
       "<IPython.core.display.Image object>"
      ]
     },
     "metadata": {},
     "output_type": "display_data"
    },
    {
     "name": "stdout",
     "output_type": "stream",
     "text": [
      "//news.nate.com/view/20250723n26962?mid=n0400\n",
      "[단독]\"추모제에 10억, 둔덕 조사용역엔 1억\"…제주항공 참사 유족 분통\n"
     ]
    },
    {
     "data": {
      "text/html": [
       "<img src=\"https://thumbnews.nateimg.co.kr/news90///news.nateimg.co.kr/orgImg/kx/2025/07/23/2025072315402915527_1753252829_0028439244.jpg\"/>"
      ],
      "text/plain": [
       "<IPython.core.display.Image object>"
      ]
     },
     "metadata": {},
     "output_type": "display_data"
    },
    {
     "name": "stdout",
     "output_type": "stream",
     "text": [
      "//news.nate.com/view/20250723n26208?mid=n0400\n",
      "고교 입학 후 3학년까지 줄곧 시험지 빼돌려 전교 1등\n"
     ]
    },
    {
     "data": {
      "text/html": [
       "<img src=\"https://thumbnews.nateimg.co.kr/news90///news.nateimg.co.kr/orgImg/no/2025/07/23/SSC_20250722233506_V.jpg\"/>"
      ],
      "text/plain": [
       "<IPython.core.display.Image object>"
      ]
     },
     "metadata": {},
     "output_type": "display_data"
    },
    {
     "name": "stdout",
     "output_type": "stream",
     "text": [
      "//news.nate.com/view/20250723n29318?mid=n0400\n",
      "'아들 총기 살해' 피의자 신상공개 안될 듯…\"유족 입장 최대한 반영\"\n"
     ]
    },
    {
     "data": {
      "text/html": [
       "<img src=\"https://thumbnews.nateimg.co.kr/news90///news.nateimg.co.kr/orgImg/oh/2025/07/23/IE003499900_STD.jpg\"/>"
      ],
      "text/plain": [
       "<IPython.core.display.Image object>"
      ]
     },
     "metadata": {},
     "output_type": "display_data"
    },
    {
     "name": "stdout",
     "output_type": "stream",
     "text": [
      "//news.nate.com/view/20250723n27845?mid=n0400\n",
      "61년 만에 검찰이 낸 반성문…'성폭행 저항' 최말자씨 무죄 구형\n"
     ]
    },
    {
     "data": {
      "text/html": [
       "<img src=\"https://thumbnews.nateimg.co.kr/news90///news.nateimg.co.kr/orgImg/yt/2025/07/23/AKR20250723106400004_01_i.jpg\"/>"
      ],
      "text/plain": [
       "<IPython.core.display.Image object>"
      ]
     },
     "metadata": {},
     "output_type": "display_data"
    },
    {
     "name": "stdout",
     "output_type": "stream",
     "text": [
      "//news.nate.com/view/20250723n23667?mid=n0400\n",
      "이재민에게 써달라며 놓고 간 500만원…필체 보니 그 '천사'였다\n"
     ]
    },
    {
     "data": {
      "text/html": [
       "<img src=\"https://thumbnews.nateimg.co.kr/news90///news.nateimg.co.kr/orgImg/kh/2025/07/23/news-p.v1.20250723.a73aaebd34454c01974659feaa31e874_P1.jpg\"/>"
      ],
      "text/plain": [
       "<IPython.core.display.Image object>"
      ]
     },
     "metadata": {},
     "output_type": "display_data"
    },
    {
     "name": "stdout",
     "output_type": "stream",
     "text": [
      "//news.nate.com/view/20250723n23261?mid=n0400\n",
      "'일장기' 들고 소녀상 옆자리 차지한 '한국인들'\n"
     ]
    },
    {
     "data": {
      "text/html": [
       "<img src=\"https://thumbnews.nateimg.co.kr/news90///news.nateimg.co.kr/orgImg/ns/2025/07/23/NISI20250723_0001900562_web.jpg\"/>"
      ],
      "text/plain": [
       "<IPython.core.display.Image object>"
      ]
     },
     "metadata": {},
     "output_type": "display_data"
    },
    {
     "name": "stdout",
     "output_type": "stream",
     "text": [
      "//news.nate.com/view/20250723n20146?mid=n0400\n",
      "유튜브에 총기 제작법 범람…삭제해도 반복 유통 '무풍 지대'\n"
     ]
    },
    {
     "data": {
      "text/html": [
       "<img src=\"https://thumbnews.nateimg.co.kr/news90///news.nateimg.co.kr/orgImg/ch/2025/07/23/ch_1753243924796_525001_0.jpg\"/>"
      ],
      "text/plain": [
       "<IPython.core.display.Image object>"
      ]
     },
     "metadata": {},
     "output_type": "display_data"
    },
    {
     "name": "stdout",
     "output_type": "stream",
     "text": [
      "//news.nate.com/view/20250723n17797?mid=n0400\n",
      "북한강 토막 살인 양광준, 항소심서 \"매일 참회하며 반성\" 선처 호소\n"
     ]
    },
    {
     "data": {
      "text/html": [
       "<img src=\"https://thumbnews.nateimg.co.kr/news90///news.nateimg.co.kr/orgImg/ny/2025/07/23/AKR20250723111217344_01_i.jpg\"/>"
      ],
      "text/plain": [
       "<IPython.core.display.Image object>"
      ]
     },
     "metadata": {},
     "output_type": "display_data"
    },
    {
     "name": "stdout",
     "output_type": "stream",
     "text": [
      "//news.nate.com/view/20250723n13956?mid=n0400\n",
      "7호 태풍 '프란시스코' 북상…한반도 폭염 더 키우나\n",
      "======> https://news.nate.com/section?mid=n0500 세계 <======\n"
     ]
    },
    {
     "data": {
      "text/html": [
       "<img src=\"https://thumbnews.nateimg.co.kr/news90///news.nateimg.co.kr/orgImg/ae/2025/07/23/ae_1753265346106_769321_0.png\"/>"
      ],
      "text/plain": [
       "<IPython.core.display.Image object>"
      ]
     },
     "metadata": {},
     "output_type": "display_data"
    },
    {
     "name": "stdout",
     "output_type": "stream",
     "text": [
      "//news.nate.com/view/20250723n35761?mid=n0500\n",
      "싱가포르, 전국민에 65만원 소비쿠폰 지급…말레이도 현금지원\n"
     ]
    },
    {
     "data": {
      "text/html": [
       "<img src=\"https://thumbnews.nateimg.co.kr/news90///news.nateimg.co.kr/orgImg/jt/2025/07/23/20250723195232181001.jpg\"/>"
      ],
      "text/plain": [
       "<IPython.core.display.Image object>"
      ]
     },
     "metadata": {},
     "output_type": "display_data"
    },
    {
     "name": "stdout",
     "output_type": "stream",
     "text": [
      "//news.nate.com/view/20250723n36951?mid=n0500\n",
      "\"국익 지켜냈다\"는 일본, '759조 투자' 건네고 얻은 것은\n"
     ]
    },
    {
     "data": {
      "text/html": [
       "<img src=\"https://thumbnews.nateimg.co.kr/news90///news.nateimg.co.kr/orgImg/fn/2025/07/23/202507211616564001_l.jpg\"/>"
      ],
      "text/plain": [
       "<IPython.core.display.Image object>"
      ]
     },
     "metadata": {},
     "output_type": "display_data"
    },
    {
     "name": "stdout",
     "output_type": "stream",
     "text": [
      "//news.nate.com/view/20250723n15436?mid=n0500\n",
      "마이니치 \"日이시바 총리, 내달 중 퇴진 공식 표명 방침\"\n"
     ]
    },
    {
     "data": {
      "text/html": [
       "<img src=\"https://thumbnews.nateimg.co.kr/news90///news.nateimg.co.kr/orgImg/at/2025/07/23/2025072301002181600130321.jpg\"/>"
      ],
      "text/plain": [
       "<IPython.core.display.Image object>"
      ]
     },
     "metadata": {},
     "output_type": "display_data"
    },
    {
     "name": "stdout",
     "output_type": "stream",
     "text": [
      "//news.nate.com/view/20250723n03572?mid=n0500\n",
      "90대 전후 왕훙 잇따라 사망, 中 노년 SNS 유행\n"
     ]
    },
    {
     "data": {
      "text/html": [
       "<img src=\"https://thumbnews.nateimg.co.kr/news90///news.nateimg.co.kr/orgImg/se/2025/07/23/2GVGL7XBNJ_1.jpg\"/>"
      ],
      "text/plain": [
       "<IPython.core.display.Image object>"
      ]
     },
     "metadata": {},
     "output_type": "display_data"
    },
    {
     "name": "stdout",
     "output_type": "stream",
     "text": [
      "//news.nate.com/view/20250723n01093?mid=n0500\n",
      "\"크루아상 배달비만 70만원?\"…뉴욕 부자들 몰리는 '초고가 맞춤 택배' 뭐길래\n"
     ]
    },
    {
     "data": {
      "text/html": [
       "<img src=\"https://thumbnews.nateimg.co.kr/news90///news.nateimg.co.kr/orgImg/jt/2025/07/21/20250721162045943001.png\"/>"
      ],
      "text/plain": [
       "<IPython.core.display.Image object>"
      ]
     },
     "metadata": {},
     "output_type": "display_data"
    },
    {
     "name": "stdout",
     "output_type": "stream",
     "text": [
      "//news.nate.com/view/20250721n28429?mid=n0500\n",
      "트럼프 \"미국 가장 존경받는 나라\"…6개월 돌아보니 '더 독해진 미국 우선'\n"
     ]
    },
    {
     "data": {
      "text/html": [
       "<img src=\"https://thumbnews.nateimg.co.kr/news90///news.nateimg.co.kr/orgImg/yn/2025/07/21/202507210733060065_t.jpg\"/>"
      ],
      "text/plain": [
       "<IPython.core.display.Image object>"
      ]
     },
     "metadata": {},
     "output_type": "display_data"
    },
    {
     "name": "stdout",
     "output_type": "stream",
     "text": [
      "//news.nate.com/view/20250721n03536?mid=n0500\n",
      "[자막뉴스] 음식 가지러 왔는데…식량 대신 \"탱크들이 무자비 총격\"\n"
     ]
    },
    {
     "data": {
      "text/html": [
       "<img src=\"https://thumbnews.nateimg.co.kr/news90///news.nateimg.co.kr/orgImg/se/2025/07/17/2GVDVXA7ND_1.png\"/>"
      ],
      "text/plain": [
       "<IPython.core.display.Image object>"
      ]
     },
     "metadata": {},
     "output_type": "display_data"
    },
    {
     "name": "stdout",
     "output_type": "stream",
     "text": [
      "//news.nate.com/view/20250717n21403?mid=n0500\n",
      "한국은 임시공휴일 고민하는데···\"쉬는 날 너무 많아\" 공휴일 줄이자는 '이 나라'\n"
     ]
    },
    {
     "data": {
      "text/html": [
       "<img src=\"https://thumbnews.nateimg.co.kr/news90///news.nateimg.co.kr/orgImg/mh/2025/07/16/news-p.v1.20250716.fd541fddb0f1401ba740751e207a64ca_P1.jpg\"/>"
      ],
      "text/plain": [
       "<IPython.core.display.Image object>"
      ]
     },
     "metadata": {},
     "output_type": "display_data"
    },
    {
     "name": "stdout",
     "output_type": "stream",
     "text": [
      "//news.nate.com/view/20250716n01978?mid=n0500\n",
      "\"매우 심각\" \"수용 못해\" 종전 압박한 트럼프에 러시아 '발끈'\n"
     ]
    },
    {
     "data": {
      "text/html": [
       "<img src=\"https://thumbnews.nateimg.co.kr/news90///news.nateimg.co.kr/orgImg/jo/2025/07/16/45a2c10f-ce80-4cdf-87e0-67f9c7502284.jpg\"/>"
      ],
      "text/plain": [
       "<IPython.core.display.Image object>"
      ]
     },
     "metadata": {},
     "output_type": "display_data"
    },
    {
     "name": "stdout",
     "output_type": "stream",
     "text": [
      "//news.nate.com/view/20250716n02012?mid=n0500\n",
      "젤렌스키에 \"무기주면 모스크바 칠 수 있나\" 했던 트럼프 \"수도는 안돼\"\n",
      "======> https://news.nate.com/section?mid=n0300 경제 <======\n"
     ]
    },
    {
     "data": {
      "text/html": [
       "<img src=\"https://thumbnews.nateimg.co.kr/news90///news.nateimg.co.kr/orgImg/mw/2025/07/23/mw_1753259645494_856463_0.jpg\"/>"
      ],
      "text/plain": [
       "<IPython.core.display.Image object>"
      ]
     },
     "metadata": {},
     "output_type": "display_data"
    },
    {
     "name": "stdout",
     "output_type": "stream",
     "text": [
      "//news.nate.com/view/20250723n32107?mid=n0300\n",
      "신혼·청년층 주택 문턱 높아졌다…서울 첫 집 매수 35% '급감'\n"
     ]
    },
    {
     "data": {
      "text/html": [
       "<img src=\"https://thumbnews.nateimg.co.kr/news90///news.nateimg.co.kr/orgImg/na/2025/07/23/7408994_high.jpg\"/>"
      ],
      "text/plain": [
       "<IPython.core.display.Image object>"
      ]
     },
     "metadata": {},
     "output_type": "display_data"
    },
    {
     "name": "stdout",
     "output_type": "stream",
     "text": [
      "//news.nate.com/view/20250723n36518?mid=n0300\n",
      "쌀·소고기 대신 '연료작물' 통할까…\"조선·제조업 내세워 美 설득해야\"\n"
     ]
    },
    {
     "data": {
      "text/html": [
       "<img src=\"https://thumbnews.nateimg.co.kr/news90///news.nateimg.co.kr/orgImg/jt/2025/07/23/20250723192341552001.jpg\"/>"
      ],
      "text/plain": [
       "<IPython.core.display.Image object>"
      ]
     },
     "metadata": {},
     "output_type": "display_data"
    },
    {
     "name": "stdout",
     "output_type": "stream",
     "text": [
      "//news.nate.com/view/20250723n37173?mid=n0300\n",
      "[단독] 보증금 받으러 갔더니 \"난 명의만\"…'바지 임대인' 내세워 전세사기\n"
     ]
    },
    {
     "data": {
      "text/html": [
       "<img src=\"https://thumbnews.nateimg.co.kr/news90///news.nateimg.co.kr/orgImg/mk/2025/07/23/news-p.v1.20250723.a8df05b0c0ab4289b27e6883fdc3c4a8_P2.jpg\"/>"
      ],
      "text/plain": [
       "<IPython.core.display.Image object>"
      ]
     },
     "metadata": {},
     "output_type": "display_data"
    },
    {
     "name": "stdout",
     "output_type": "stream",
     "text": [
      "//news.nate.com/view/20250723n34548?mid=n0300\n",
      "[단독] \"내수 살아나도 못벗어난다\"…이대로 0%대 성장률 굳어지나\n"
     ]
    },
    {
     "data": {
      "text/html": [
       "<img src=\"https://thumbnews.nateimg.co.kr/news90///news.nateimg.co.kr/orgImg/no/2025/07/23/SSC_20250306215657_V.jpg\"/>"
      ],
      "text/plain": [
       "<IPython.core.display.Image object>"
      ]
     },
     "metadata": {},
     "output_type": "display_data"
    },
    {
     "name": "stdout",
     "output_type": "stream",
     "text": [
      "//news.nate.com/view/20250723n34084?mid=n0300\n",
      "SK하이닉스, 상반기 성과급 '150%' 지급…375원 현금배당도\n"
     ]
    },
    {
     "data": {
      "text/html": [
       "<img src=\"https://thumbnews.nateimg.co.kr/news90///news.nateimg.co.kr/orgImg/hi/2025/07/23/ab4ec5fa-0769-4266-b79a-33fbb358d08b.jpg\"/>"
      ],
      "text/plain": [
       "<IPython.core.display.Image object>"
      ]
     },
     "metadata": {},
     "output_type": "display_data"
    },
    {
     "name": "stdout",
     "output_type": "stream",
     "text": [
      "//news.nate.com/view/20250723n22986?mid=n0300\n",
      "\"주가조작 패가망신\"…10월부터 과징금 더 세게 때린다\n"
     ]
    },
    {
     "data": {
      "text/html": [
       "<img src=\"https://thumbnews.nateimg.co.kr/news90///news.nateimg.co.kr/orgImg/mt/2025/07/23/mt_1753242364835_32893_0.jpg\"/>"
      ],
      "text/plain": [
       "<IPython.core.display.Image object>"
      ]
     },
     "metadata": {},
     "output_type": "display_data"
    },
    {
     "name": "stdout",
     "output_type": "stream",
     "text": [
      "//news.nate.com/view/20250723n17074?mid=n0300\n",
      "\"중국서 무려 100억어치 팔려\" 김밥 난리에…풀무원 '불기둥'\n"
     ]
    },
    {
     "data": {
      "text/html": [
       "<img src=\"https://thumbnews.nateimg.co.kr/news90///news.nateimg.co.kr/orgImg/ns/2025/07/23/NISI20250528_0020829805_web.jpg\"/>"
      ],
      "text/plain": [
       "<IPython.core.display.Image object>"
      ]
     },
     "metadata": {},
     "output_type": "display_data"
    },
    {
     "name": "stdout",
     "output_type": "stream",
     "text": [
      "//news.nate.com/view/20250723n16482?mid=n0300\n",
      "5월까지 누적 출생아, 10.6만명…증가율 역대 최고 찍었다\n"
     ]
    },
    {
     "data": {
      "text/html": [
       "<img src=\"https://thumbnews.nateimg.co.kr/news90///news.nateimg.co.kr/orgImg/hi/2025/07/23/27493b04-7332-40ca-801a-e44ca88c2a99.jpg\"/>"
      ],
      "text/plain": [
       "<IPython.core.display.Image object>"
      ]
     },
     "metadata": {},
     "output_type": "display_data"
    },
    {
     "name": "stdout",
     "output_type": "stream",
     "text": [
      "//news.nate.com/view/20250723n11454?mid=n0300\n",
      "국토 6분의 1에 4700만 명이 몰려 산다…'도시살이' 국민 92%\n"
     ]
    },
    {
     "data": {
      "text/html": [
       "<img src=\"https://thumbnews.nateimg.co.kr/news90///news.nateimg.co.kr/orgImg/mk/2025/07/23/news-p.v1.20250723.7923c8e33e134a80b319699416278f13_P1.png\"/>"
      ],
      "text/plain": [
       "<IPython.core.display.Image object>"
      ]
     },
     "metadata": {},
     "output_type": "display_data"
    },
    {
     "name": "stdout",
     "output_type": "stream",
     "text": [
      "//news.nate.com/view/20250723n10309?mid=n0300\n",
      "\"2028년이면 바닥날 수도\"…건강보험 재정 적신호, 해결책은 결국 세금?\n"
     ]
    },
    {
     "data": {
      "text/html": [
       "<img src=\"https://thumbnews.nateimg.co.kr/news90///news.nateimg.co.kr/orgImg/yt/2025/07/23/PRU20250718039401009_P2.jpg\"/>"
      ],
      "text/plain": [
       "<IPython.core.display.Image object>"
      ]
     },
     "metadata": {},
     "output_type": "display_data"
    },
    {
     "name": "stdout",
     "output_type": "stream",
     "text": [
      "//news.nate.com/view/20250723n03447?mid=n0300\n",
      "가상화폐 비트코인 다시 '상승 모드'…한때 12만달러선 탈환\n"
     ]
    },
    {
     "data": {
      "text/html": [
       "<img src=\"https://thumbnews.nateimg.co.kr/news90///news.nateimg.co.kr/orgImg/mk/2025/07/23/news-p.v1.20250722.6e4df01b6c5e4f35a9fe2017e85869ae_P1.jpeg\"/>"
      ],
      "text/plain": [
       "<IPython.core.display.Image object>"
      ]
     },
     "metadata": {},
     "output_type": "display_data"
    },
    {
     "name": "stdout",
     "output_type": "stream",
     "text": [
      "//news.nate.com/view/20250723n02635?mid=n0300\n",
      "\"그래도 대학 나왔는데 그런 일은 좀\"…중졸 백수보다 많아진 비경제활동인구\n"
     ]
    },
    {
     "data": {
      "text/html": [
       "<img src=\"https://thumbnews.nateimg.co.kr/news90///news.nateimg.co.kr/orgImg/ch/2025/07/23/ch_1753198394951_612468_0.jpg\"/>"
      ],
      "text/plain": [
       "<IPython.core.display.Image object>"
      ]
     },
     "metadata": {},
     "output_type": "display_data"
    },
    {
     "name": "stdout",
     "output_type": "stream",
     "text": [
      "//news.nate.com/view/20250723n00311?mid=n0300\n",
      "수박 한 통 가격 3만원대, 풋고추도 100g당 2000원 돌파\n"
     ]
    },
    {
     "data": {
      "text/html": [
       "<img src=\"https://thumbnews.nateimg.co.kr/news90///news.nateimg.co.kr/orgImg/fn/2025/07/22/202507220926296616_l.jpg\"/>"
      ],
      "text/plain": [
       "<IPython.core.display.Image object>"
      ]
     },
     "metadata": {},
     "output_type": "display_data"
    },
    {
     "name": "stdout",
     "output_type": "stream",
     "text": [
      "//news.nate.com/view/20250722n25370?mid=n0300\n",
      "코스피, 연중 신고점 경신에도 하락 마감 [fn마감시황]\n"
     ]
    },
    {
     "data": {
      "text/html": [
       "<img src=\"https://thumbnews.nateimg.co.kr/news90///news.nateimg.co.kr/orgImg/mk/2025/07/22/news-p.v1.20250722.2db14126f0ab4ef49e9e335465ef9ff6_P1.jpg\"/>"
      ],
      "text/plain": [
       "<IPython.core.display.Image object>"
      ]
     },
     "metadata": {},
     "output_type": "display_data"
    },
    {
     "name": "stdout",
     "output_type": "stream",
     "text": [
      "//news.nate.com/view/20250722n20238?mid=n0300\n",
      "\"직원이 대포통장 126개 만들 동안 뭐했나\"…내부통제 무너진 새마을금고\n",
      "======> https://news.nate.com/section?mid=n0200 정치 <======\n"
     ]
    },
    {
     "data": {
      "text/html": [
       "<img src=\"https://thumbnews.nateimg.co.kr/news90///news.nateimg.co.kr/orgImg/hn/2025/07/23/20250723503683.jpg\"/>"
      ],
      "text/plain": [
       "<IPython.core.display.Image object>"
      ]
     },
     "metadata": {},
     "output_type": "display_data"
    },
    {
     "name": "stdout",
     "output_type": "stream",
     "text": [
      "//news.nate.com/view/20250723n36774?mid=n0200\n",
      "[단독] 강선우 사퇴, 이 대통령이 결단 내렸다…김현지 비서관 통해 뜻 전달\n"
     ]
    },
    {
     "data": {
      "text/html": [
       "<img src=\"https://thumbnews.nateimg.co.kr/news90///news.nateimg.co.kr/orgImg/jt/2025/07/23/20250723202626229001.jpg\"/>"
      ],
      "text/plain": [
       "<IPython.core.display.Image object>"
      ]
     },
     "metadata": {},
     "output_type": "display_data"
    },
    {
     "name": "stdout",
     "output_type": "stream",
     "text": [
      "//news.nate.com/view/20250723n37642?mid=n0200\n",
      "'친길 vs 반길' 갈라진 국힘 전대…'수사 거론' 주진우도 출사표\n"
     ]
    },
    {
     "data": {
      "text/html": [
       "<img src=\"https://thumbnews.nateimg.co.kr/news90///news.nateimg.co.kr/orgImg/na/2025/07/23/7392529_high.jpg\"/>"
      ],
      "text/plain": [
       "<IPython.core.display.Image object>"
      ]
     },
     "metadata": {},
     "output_type": "display_data"
    },
    {
     "name": "stdout",
     "output_type": "stream",
     "text": [
      "//news.nate.com/view/20250723n30784?mid=n0200\n",
      "강선우 전격 사퇴에 민주당 '발칵'…\"좀더 빨랐으면\" \"힘내시라\"\n"
     ]
    },
    {
     "data": {
      "text/html": [
       "<img src=\"https://thumbnews.nateimg.co.kr/news90///news.nateimg.co.kr/orgImg/fn/2025/07/23/202507231034246516_l.jpg\"/>"
      ],
      "text/plain": [
       "<IPython.core.display.Image object>"
      ]
     },
     "metadata": {},
     "output_type": "display_data"
    },
    {
     "name": "stdout",
     "output_type": "stream",
     "text": [
      "//news.nate.com/view/20250723n26831?mid=n0200\n",
      "\"오세훈 '극우 유튜버' 됐나\" 비판에 \"안보철학 전달한 것\"\n"
     ]
    },
    {
     "data": {
      "text/html": [
       "<img src=\"https://thumbnews.nateimg.co.kr/news90///news.nateimg.co.kr/orgImg/fn/2025/07/23/202507151925012739_l.jpg\"/>"
      ],
      "text/plain": [
       "<IPython.core.display.Image object>"
      ]
     },
     "metadata": {},
     "output_type": "display_data"
    },
    {
     "name": "stdout",
     "output_type": "stream",
     "text": [
      "//news.nate.com/view/20250723n20965?mid=n0200\n",
      "\"APEC후원 해외기업은 하나도 없네\"…10대 국내기업은 현대차뿐인 이유가?\n"
     ]
    },
    {
     "data": {
      "text/html": [
       "<img src=\"https://thumbnews.nateimg.co.kr/news90///news.nateimg.co.kr/orgImg/se/2025/07/23/2GVGN24JMN_4.jpg\"/>"
      ],
      "text/plain": [
       "<IPython.core.display.Image object>"
      ]
     },
     "metadata": {},
     "output_type": "display_data"
    },
    {
     "name": "stdout",
     "output_type": "stream",
     "text": [
      "//news.nate.com/view/20250723n19524?mid=n0200\n",
      "[단독]특검, 오산 공군기지 레이더시설 압색···'평양 무인기' 이적죄 정조준\n"
     ]
    },
    {
     "data": {
      "text/html": [
       "<img src=\"https://thumbnews.nateimg.co.kr/news90///news.nateimg.co.kr/orgImg/hn/2025/07/23/53_17532492058907_6917532491720818.png\"/>"
      ],
      "text/plain": [
       "<IPython.core.display.Image object>"
      ]
     },
     "metadata": {},
     "output_type": "display_data"
    },
    {
     "name": "stdout",
     "output_type": "stream",
     "text": [
      "//news.nate.com/view/20250723n22422?mid=n0200\n",
      "윤석열 '에어컨 방' 하루 2.3회…시간제한 없는 '변호인 접견' 찬스?\n"
     ]
    },
    {
     "data": {
      "text/html": [
       "<img src=\"https://thumbnews.nateimg.co.kr/news90///news.nateimg.co.kr/orgImg/kx/2025/07/23/2025072314345515290_1753248895_0028438824.jpg\"/>"
      ],
      "text/plain": [
       "<IPython.core.display.Image object>"
      ]
     },
     "metadata": {},
     "output_type": "display_data"
    },
    {
     "name": "stdout",
     "output_type": "stream",
     "text": [
      "//news.nate.com/view/20250723n22494?mid=n0200\n",
      "李, 색깔별 소비 쿠폰에 \"인권 감수성 부족\" 강력 질타\n"
     ]
    },
    {
     "data": {
      "text/html": [
       "<img src=\"https://thumbnews.nateimg.co.kr/news90///news.nateimg.co.kr/orgImg/mh/2025/07/23/news-p.v1.20250723.7e7da489d72f49a9b2a8bdda3e4f6787_P1.jpg\"/>"
      ],
      "text/plain": [
       "<IPython.core.display.Image object>"
      ]
     },
     "metadata": {},
     "output_type": "display_data"
    },
    {
     "name": "stdout",
     "output_type": "stream",
     "text": [
      "//news.nate.com/view/20250723n09836?mid=n0200\n",
      "홍준표 \"국힘 딱하다, 정청래가 가만 놔두겠나?\"\n"
     ]
    },
    {
     "data": {
      "text/html": [
       "<img src=\"https://thumbnews.nateimg.co.kr/news90///news.nateimg.co.kr/orgImg/na/2025/07/23/7408350_high.jpg\"/>"
      ],
      "text/plain": [
       "<IPython.core.display.Image object>"
      ]
     },
     "metadata": {},
     "output_type": "display_data"
    },
    {
     "name": "stdout",
     "output_type": "stream",
     "text": [
      "//news.nate.com/view/20250723n12909?mid=n0200\n",
      "'당대표 출마' 장동혁 \"내가 극우? 혁신이라며 당 싸움터 만들어\"(종합)\n"
     ]
    },
    {
     "data": {
      "text/html": [
       "<img src=\"https://thumbnews.nateimg.co.kr/news90///news.nateimg.co.kr/orgImg/sg/2025/07/23/20250722516299.jpg\"/>"
      ],
      "text/plain": [
       "<IPython.core.display.Image object>"
      ]
     },
     "metadata": {},
     "output_type": "display_data"
    },
    {
     "name": "stdout",
     "output_type": "stream",
     "text": [
      "//news.nate.com/view/20250723n02192?mid=n0200\n",
      "'의사 출신' 정은경 복지장관 취임…\"국민 중심 의료개혁 추진하겠다\"\n"
     ]
    },
    {
     "data": {
      "text/html": [
       "<img src=\"https://thumbnews.nateimg.co.kr/news90///news.nateimg.co.kr/orgImg/hr/2025/07/23/news-p.v1.20250608.453edaab2ac14a1c9b0e62d285a5cfa6_P1.png\"/>"
      ],
      "text/plain": [
       "<IPython.core.display.Image object>"
      ]
     },
     "metadata": {},
     "output_type": "display_data"
    },
    {
     "name": "stdout",
     "output_type": "stream",
     "text": [
      "//news.nate.com/view/20250723n06655?mid=n0200\n",
      "초선 주진우, 국민의힘 당권 도전…\"젊고 강한 보수로 탈바꿈\"\n"
     ]
    },
    {
     "data": {
      "text/html": [
       "<img src=\"https://thumbnews.nateimg.co.kr/news90///news.nateimg.co.kr/orgImg/na/2025/07/23/5248888_high.jpg\"/>"
      ],
      "text/plain": [
       "<IPython.core.display.Image object>"
      ]
     },
     "metadata": {},
     "output_type": "display_data"
    },
    {
     "name": "stdout",
     "output_type": "stream",
     "text": [
      "//news.nate.com/view/20250723n05453?mid=n0200\n",
      "안철수 \"尹 들이받고 싶었다…다 줄 것처럼 해놓고 복지장관 딱 한번 제의\"\n"
     ]
    },
    {
     "data": {
      "text/html": [
       "<img src=\"https://thumbnews.nateimg.co.kr/news90///news.nateimg.co.kr/orgImg/na/2025/07/23/7125677_high.jpg\"/>"
      ],
      "text/plain": [
       "<IPython.core.display.Image object>"
      ]
     },
     "metadata": {},
     "output_type": "display_data"
    },
    {
     "name": "stdout",
     "output_type": "stream",
     "text": [
      "//news.nate.com/view/20250723n05676?mid=n0200\n",
      "[단독] \"언론사 단전·단수 가능한가\"…이상민 소환 앞두고 진술 확보\n"
     ]
    },
    {
     "data": {
      "text/html": [
       "<img src=\"https://thumbnews.nateimg.co.kr/news90///news.nateimg.co.kr/orgImg/ch/2025/07/23/ch_1753221304493_70514_0.jpg\"/>"
      ],
      "text/plain": [
       "<IPython.core.display.Image object>"
      ]
     },
     "metadata": {},
     "output_type": "display_data"
    },
    {
     "name": "stdout",
     "output_type": "stream",
     "text": [
      "//news.nate.com/view/20250723n02717?mid=n0200\n",
      "무려 '29박 30일'…최장 포상휴가 받은 병사들의 정체\n",
      "======> https://news.nate.com/section?mid=n0600 IT/과학 <======\n"
     ]
    },
    {
     "data": {
      "text/html": [
       "<img src=\"https://thumbnews.nateimg.co.kr/news90///news.nateimg.co.kr/orgImg/jt/2025/07/23/20250723201655199001.jpg\"/>"
      ],
      "text/plain": [
       "<IPython.core.display.Image object>"
      ]
     },
     "metadata": {},
     "output_type": "display_data"
    },
    {
     "name": "stdout",
     "output_type": "stream",
     "text": [
      "//news.nate.com/view/20250723n37564?mid=n0600\n",
      "\"AI, 2030년대엔 인간 초월\"…챗GPT 아버지 '섬뜩한 경고'\n"
     ]
    },
    {
     "data": {
      "text/html": [
       "<img src=\"https://thumbnews.nateimg.co.kr/news90///news.nateimg.co.kr/orgImg/hk/2025/07/23/01.41196326.1.jpg\"/>"
      ],
      "text/plain": [
       "<IPython.core.display.Image object>"
      ]
     },
     "metadata": {},
     "output_type": "display_data"
    },
    {
     "name": "stdout",
     "output_type": "stream",
     "text": [
      "//news.nate.com/view/20250723n10379?mid=n0600\n",
      "\"보조금 늘면 통신사 바꿀래요\"…단통법 폐지 반기는 소비자들\n"
     ]
    },
    {
     "data": {
      "text/html": [
       "<img src=\"https://thumbnews.nateimg.co.kr/news90///news.nateimg.co.kr/orgImg/hk/2025/07/23/ZK.40780104.1.jpg\"/>"
      ],
      "text/plain": [
       "<IPython.core.display.Image object>"
      ]
     },
     "metadata": {},
     "output_type": "display_data"
    },
    {
     "name": "stdout",
     "output_type": "stream",
     "text": [
      "//news.nate.com/view/20250723n02839?mid=n0600\n",
      "기술만 베끼는 줄 알았더니…중국의 무서운 '전술' [AI 엑스파일]\n"
     ]
    },
    {
     "data": {
      "text/html": [
       "<img src=\"https://thumbnews.nateimg.co.kr/news90///news.nateimg.co.kr/orgImg/mh/2025/07/23/news-p.v1.20250722.8c7d351fa0174d00947f634ba56ee06b_P1.jpg\"/>"
      ],
      "text/plain": [
       "<IPython.core.display.Image object>"
      ]
     },
     "metadata": {},
     "output_type": "display_data"
    },
    {
     "name": "stdout",
     "output_type": "stream",
     "text": [
      "//news.nate.com/view/20250723n00408?mid=n0600\n",
      "아이폰으로 버스·지하철 탄다…애플페이, T머니 지원\n"
     ]
    },
    {
     "data": {
      "text/html": [
       "<img src=\"https://thumbnews.nateimg.co.kr/news90///news.nateimg.co.kr/orgImg/se/2025/07/23/2GVGLO28VK_2.png\"/>"
      ],
      "text/plain": [
       "<IPython.core.display.Image object>"
      ]
     },
     "metadata": {},
     "output_type": "display_data"
    },
    {
     "name": "stdout",
     "output_type": "stream",
     "text": [
      "//news.nate.com/view/20250723n02067?mid=n0600\n",
      "\"아빠 알고리즘에 김어준만 떠요\"···유튜브판 장악한 진보\n"
     ]
    }
   ],
   "source": [
    "for section in section_dict.keys():\n",
    "    print_news(section)"
   ]
  },
  {
   "cell_type": "code",
   "execution_count": 1,
   "id": "d014fd56",
   "metadata": {},
   "outputs": [
    {
     "name": "stderr",
     "output_type": "stream",
     "text": [
      "<string>:7: SyntaxWarning: invalid escape sequence '\\{'\n",
      "<string>:7: SyntaxWarning: invalid escape sequence '\\{'\n",
      "<>:7: SyntaxWarning: invalid escape sequence '\\{'\n",
      "<>:7: SyntaxWarning: invalid escape sequence '\\{'\n",
      "<string>:7: SyntaxWarning: invalid escape sequence '\\{'\n",
      "<string>:7: SyntaxWarning: invalid escape sequence '\\{'\n",
      "<>:7: SyntaxWarning: invalid escape sequence '\\{'\n",
      "<>:7: SyntaxWarning: invalid escape sequence '\\{'\n",
      "C:\\Users\\user\\AppData\\Local\\Temp\\ipykernel_3904\\3155844700.py:7: SyntaxWarning: invalid escape sequence '\\{'\n",
      "  imgdir_name = f'img\\{title}\\{no}'\n",
      "C:\\Users\\user\\AppData\\Local\\Temp\\ipykernel_3904\\3155844700.py:7: SyntaxWarning: invalid escape sequence '\\{'\n",
      "  imgdir_name = f'img\\{title}\\{no}'\n"
     ]
    }
   ],
   "source": [
    "# 2-2\n",
    "import os\n",
    "\n",
    "def download_one_episode(title, no, url):\n",
    "    # 기본 설정\n",
    "    req_header = {'referer': url}\n",
    "    imgdir_name = f'img\\{title}\\{no}'\n",
    "\n",
    "    # 이미지 저장 폴더가 없으면 생성\n",
    "    os.makedirs(imgdir_name, exist_ok=True)\n",
    "\n",
    "    # 웹 페이지 요청 및 확인\n",
    "    res = requests.get(url)\n",
    "    if not res.ok:\n",
    "        print(f'Error Code = {res.status_code}')\n",
    "        exit()\n",
    "\n",
    "    # 이미지 url 추출\n",
    "    soup = BeautifulSoup(res.text, 'html.parser')\n",
    "    img_url_list = [img_tag['src'] for img_tag in soup.select(\"img[src*='IMAG01']\")]\n",
    "\n",
    "    # 이미지 다운로드\n",
    "    for img_url in img_url_list:\n",
    "        res = requests.get(img_url, headers=req_header)\n",
    "        if res.ok:\n",
    "            img_data = res.content\n",
    "            file_path = os.path.join(imgdir_name, os.path.basename(img_url))\n",
    "            with open(file_path, 'wb') as file:\n",
    "                # print(f'Writing to {file_path}({len(img_data):,} bytes)')\n",
    "                file.write(img_data)\n",
    "        else:\n",
    "            print(f'Error Code = {res.status_code} for {img_url}')"
   ]
  },
  {
   "cell_type": "code",
   "execution_count": 53,
   "id": "f57c41b4",
   "metadata": {},
   "outputs": [],
   "source": [
    "download_one_episode('마왕까지 한 걸음',215,'https://comic.naver.com/webtoon/detail?titleId=776668&no=215&week=thu')"
   ]
  }
 ],
 "metadata": {
  "kernelspec": {
   "display_name": "base",
   "language": "python",
   "name": "python3"
  },
  "language_info": {
   "codemirror_mode": {
    "name": "ipython",
    "version": 3
   },
   "file_extension": ".py",
   "mimetype": "text/x-python",
   "name": "python",
   "nbconvert_exporter": "python",
   "pygments_lexer": "ipython3",
   "version": "3.12.7"
  }
 },
 "nbformat": 4,
 "nbformat_minor": 5
}
