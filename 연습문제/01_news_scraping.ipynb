{
 "cells": [
  {
   "cell_type": "code",
   "execution_count": 59,
   "id": "d0d38cb5",
   "metadata": {},
   "outputs": [],
   "source": [
    "# reqeusts, bs4 import\n",
    "import requests\n",
    "# BeautifulSoup import\n",
    "import bs4\n",
    "# BeautifulSoup 클래스 import\n",
    "from bs4 import BeautifulSoup"
   ]
  },
  {
   "cell_type": "code",
   "execution_count": 72,
   "id": "bbb37e77",
   "metadata": {},
   "outputs": [
    {
     "name": "stdout",
     "output_type": "stream",
     "text": [
      "https://news.daum.net/economy\n",
      "<class 'requests.models.Response'>\n",
      "200\n",
      "<class 'bs4.element.ResultSet'> 9\n",
      "https://v.daum.net/v/20250722210317765\n",
      "韓 반도체는 깨어날 줄 모르고 [AI 칩 전쟁…한국은 없다?]\n",
      "https://v.daum.net/v/20250722204242273\n",
      "소비쿠폰 쓰려다가 '화들짝'…\"여기서는 못써요\" 응답에 '당황'한 소비자\n",
      "https://v.daum.net/v/20250722202007801\n",
      "‘해수부 부산 시대’ 조선·해양플랜트까지 업무 넓혀야\n",
      "https://v.daum.net/v/20250722200357366\n",
      "[이슈대담] “2040년 석탄화력발전소 폐쇄…신재생 에너지 전환”\n",
      "https://v.daum.net/v/20250722190900992\n",
      "경제통상 외교수장들, 대거 미국행... 관세 타결·한미정상회담 열릴까\n",
      "https://v.daum.net/v/20250722185103483\n",
      "퇴근하면 시작된다...유통업계 다시 불붙은 '6시 쇼핑' 전쟁\n",
      "https://v.daum.net/v/20250722183143976\n",
      "“자율주행, 이동약자 지원하는 ‘공공성’에 초점 맞춰야”\n",
      "https://v.daum.net/v/20250722181057244\n",
      "꾸준히 강세 흐름 보이는 메이저 알트코인들 : 코리안 크립토 위클리 [INFCL 리서치]\n",
      "https://v.daum.net/v/20250722175548581\n",
      "세계시장 제패한 K뷰티·푸드…'첨단' 아니라며 R&D지원은 쥐꼬리\n"
     ]
    }
   ],
   "source": [
    "section_dict = {'홈':'home','기후/환경':'climate','사회':'society','경제':'economy','정치':'politics','국제':'world',\n",
    "                '문화':'culture','생활':'life','IT/과학':'tech','인물':'people','지식/칼럼':'understanding','연재':'series'}\n",
    "# 1번 문제\n",
    "def print_news(section):\n",
    "    sid = section_dict[section]\n",
    "    url = f'https://news.daum.net/{sid}'\n",
    "    print(url)\n",
    "    \n",
    "    # 요청 헤더 설정 : 브라우저 정보\n",
    "    req_header = {\n",
    "        \"user-agent\": \"Mozilla/5.0 (Windows NT 10.0; Win64; x64) AppleWebKit/537.36 (KHTML, like Gecko) Chrome/138.0.0.0 Safari/537.36\"\n",
    "    }\n",
    "    # requests 의 get() 함수 호출하기\n",
    "    res = requests.get(url, headers=req_header)\n",
    "    # utf-8로 encoding\n",
    "    res.encoding = 'utf-8'\n",
    "    print(type(res))\n",
    "    print(res.status_code)\n",
    "        \n",
    "    if (res.ok):\n",
    "        html = res.text\n",
    "        # BeautifulSoup 객체 생성\n",
    "        soup = BeautifulSoup(html, \"html.parser\")\n",
    "        li_tags = soup.select(\"ul.list_newsheadline2 li\")\n",
    "        print(f'{type(li_tags)} {len(li_tags)}')\n",
    "        \n",
    "        # <a> 태그 리스트 순회하기   \n",
    "        for li_tag in li_tags:\n",
    "            strong_tag = li_tag.select_one('div.cont_thumb strong.tit_txt')\n",
    "            title = strong_tag.text.strip() # 제목\n",
    "            a_tag = li_tag.find('a')\n",
    "            link = a_tag['href'] # 링크\n",
    "            print(f'{link}\\n{title}')\n",
    "    else:\n",
    "        # 응답(response)이 Error 이면 status code 출력  \n",
    "        print(f'Error Code = {res.status_code}')\n",
    "print_news('경제')"
   ]
  },
  {
   "cell_type": "code",
   "execution_count": 71,
   "id": "8256a661",
   "metadata": {},
   "outputs": [],
   "source": [
    "# 2번 문제\n",
    "def print_news(section_name):\n",
    "    sid = section_dict[section_name]\n",
    "    url = f'https://news.daum.net/{sid}'\n",
    "    print(f'======> {url} {section_name} 뉴스 <======')\n",
    "\n",
    "    # 요청 헤더 설정 : 브라우저 정보\n",
    "    req_header = {\n",
    "        \"user-agent\": \"Mozilla/5.0 (Windows NT 10.0; Win64; x64) AppleWebKit/537.36 (KHTML, like Gecko) Chrome/138.0.0.0 Safari/537.36\"\n",
    "    }\n",
    "    # requests 의 get() 함수 호출하기\n",
    "    res = requests.get(url, headers=req_header)\n",
    "    # utf-8로 encoding\n",
    "    res.encoding = 'utf-8'\n",
    "        \n",
    "    if (res.ok):\n",
    "        html = res.text\n",
    "        # BeautifulSoup 객체 생성\n",
    "        soup = BeautifulSoup(html, \"html.parser\")\n",
    "        li_tags = soup.select(\"ul.list_newsheadline2 li\")\n",
    "        \n",
    "        # <a> 태그 리스트 순회하기   \n",
    "        for li_tag in li_tags:\n",
    "            strong_tag = li_tag.select_one('div.cont_thumb strong.tit_txt')\n",
    "            title = strong_tag.text.strip() # 제목\n",
    "            a_tag = li_tag.find('a')\n",
    "            link = a_tag['href'] # 링크\n",
    "            print(f'{link}\\n{title}')\n",
    "    else:\n",
    "        # 응답(response)이 Error 이면 status code 출력  \n",
    "        print(f'Error Code = {res.status_code}')"
   ]
  },
  {
   "cell_type": "code",
   "execution_count": 67,
   "id": "39d2b0a4",
   "metadata": {},
   "outputs": [
    {
     "name": "stdout",
     "output_type": "stream",
     "text": [
      "======> https://news.daum.net/economy 경제 뉴스 <======\n",
      "https://v.daum.net/v/20250722210317765\n",
      "韓 반도체는 깨어날 줄 모르고 [AI 칩 전쟁…한국은 없다?]\n",
      "https://v.daum.net/v/20250722204242273\n",
      "소비쿠폰 쓰려다가 '화들짝'…\"여기서는 못써요\" 응답에 '당황'한 소비자\n",
      "https://v.daum.net/v/20250722202007801\n",
      "‘해수부 부산 시대’ 조선·해양플랜트까지 업무 넓혀야\n",
      "https://v.daum.net/v/20250722200357366\n",
      "[이슈대담] “2040년 석탄화력발전소 폐쇄…신재생 에너지 전환”\n",
      "https://v.daum.net/v/20250722190900992\n",
      "경제통상 외교수장들, 대거 미국행... 관세 타결·한미정상회담 열릴까\n",
      "https://v.daum.net/v/20250722185103483\n",
      "퇴근하면 시작된다...유통업계 다시 불붙은 '6시 쇼핑' 전쟁\n",
      "https://v.daum.net/v/20250722183143976\n",
      "“자율주행, 이동약자 지원하는 ‘공공성’에 초점 맞춰야”\n",
      "https://v.daum.net/v/20250722181057244\n",
      "꾸준히 강세 흐름 보이는 메이저 알트코인들 : 코리안 크립토 위클리 [INFCL 리서치]\n",
      "https://v.daum.net/v/20250722175548581\n",
      "세계시장 제패한 K뷰티·푸드…'첨단' 아니라며 R&D지원은 쥐꼬리\n"
     ]
    }
   ],
   "source": [
    "# 함수호출\n",
    "print_news('경제')"
   ]
  },
  {
   "cell_type": "code",
   "execution_count": 68,
   "id": "28865abb",
   "metadata": {},
   "outputs": [
    {
     "name": "stdout",
     "output_type": "stream",
     "text": [
      "======> https://news.daum.net/society 사회 뉴스 <======\n",
      "https://v.daum.net/v/20250722220143943\n",
      "[단독] 통일교 ‘조직적 국힘 입당’ 시도…문자메시지·입당원서 공개 파장\n",
      "https://v.daum.net/v/20250722214226532\n",
      "[호우 피해 합천 가회면 가보니] 수마 휩쓸고 간 마을, 쓰레기밭으로 변했다\n",
      "https://v.daum.net/v/20250722213920464\n",
      "2043년 대학 신입생 절반도 못 채운다…입학자원 급감 '경고등'\n",
      "https://v.daum.net/v/20250722213017302\n",
      "[28] ‘모란이 피기까지는’...김영랑은 항일 저항시인이었다. [광주전남독립운동현장 50]\n",
      "https://v.daum.net/v/20250722210541832\n",
      "760억 등친 '수원 왕회장' 숨은 재산 추적…감옥서도 돈벌이, 피해자 두 번 울린 전세사기단\n",
      "https://v.daum.net/v/20250722210344774\n",
      "“×× 시청인데요, 물품 대리납품 좀…” 전국 공무원 사칭 사기 주의\n",
      "https://v.daum.net/v/20250722210219743\n",
      "R]\"대입 때 불리할까\"..학교 평가체계 신뢰 '흔들'\n",
      "https://v.daum.net/v/20250722205947653\n",
      "의대생 복귀 방안 협의 막바지…반대 국민청원은 5만 돌파\n",
      "https://v.daum.net/v/20250722205117470\n",
      "[밀착카메라] 장마엔 젖어서, 폭염엔 더워서…안전 위험한 '폐지 어르신'\n"
     ]
    }
   ],
   "source": [
    "print_news('사회')"
   ]
  },
  {
   "cell_type": "code",
   "execution_count": 69,
   "id": "5c8b2a84",
   "metadata": {},
   "outputs": [
    {
     "name": "stdout",
     "output_type": "stream",
     "text": [
      "======> https://news.daum.net/people 인물 뉴스 <======\n",
      "https://v.daum.net/v/20250722214300560\n",
      "[농촌 살리는 귀농스토리] ‘아버지 농법’ 걷어내고 ‘선진기술’로 일군 ‘대농의 꿈’\n",
      "https://v.daum.net/v/20250722192238426\n",
      "황규철 옥천군수 “옥천의 미래 위한 초심 잃지 않겠다”\n",
      "https://v.daum.net/v/20250722192212410\n",
      "“그 시절 떠오르니 즐겁구먼유”\n",
      "https://v.daum.net/v/20250722184640374\n",
      "[인터뷰…공감] “러브버그와 공존 방법 찾겠다” 박선재 국립생물자원관 연구관\n",
      "https://v.daum.net/v/20250722175908739\n",
      "[인터뷰] 홍덕기 부산체중·고 사이클팀 감독 “올해 상반기 상승세 이어나가 전국 최강팀 발돋움할 것”\n",
      "https://v.daum.net/v/20250722110743169\n",
      "[청년이 돌아왔다, 귀향시대] (20·끝) 이제는 귀향 아닌 정착\n",
      "https://v.daum.net/v/20250722060027468\n",
      "[예술가의 방] 도자공예가 편예린 | 전원생활\n",
      "https://v.daum.net/v/20250722050313918\n",
      "\"여행은 내 경계 확인하는 경험\"…휠체어 타고 세계 누빈 유튜버\n",
      "https://v.daum.net/v/20250722030327266\n",
      "“가상 K팝 아이돌, BTS도 못가본 경지 올라”\n",
      "https://v.daum.net/v/20250722043157507\n",
      "[가만한 당신] 아이의 열정으로 일식을 쫓은 \"아마추어\" NASA 과학자\n",
      "https://v.daum.net/v/20250721183651189\n",
      "고미술-현대미술 관통하는 ‘조형정신’ 읽어냈던 컬렉터\n",
      "https://v.daum.net/v/20250716050208639\n",
      "‘조수미를 픽업한 지휘자의 대명사’ 헤르베르트 폰 카라얀[신문에서 찾았다 오늘 별이 된 사람]\n",
      "https://v.daum.net/v/20250714184637316\n",
      "조작간첩 50년 만의 무죄 “동지들 곁에서 외롭지 않겠죠”\n",
      "https://v.daum.net/v/20250713193144618\n",
      "“박창희 교수, 50년대 재일동포 차별에 평생 민족 문제 파고들어”\n",
      "https://v.daum.net/v/20250722184640374\n",
      "[인터뷰…공감] “러브버그와 공존 방법 찾겠다” 박선재 국립생물자원관 연구관\n"
     ]
    }
   ],
   "source": [
    "print_news('인물')"
   ]
  },
  {
   "cell_type": "code",
   "execution_count": 70,
   "id": "68ae53e0",
   "metadata": {},
   "outputs": [
    {
     "name": "stdout",
     "output_type": "stream",
     "text": [
      "======> https://news.daum.net/home 홈 뉴스 <======\n",
      "https://v.daum.net/v/20250722220435026\n",
      "‘尹 격노설 위증’ 김계환, 구속영장 기각…“도망·증거인멸 우려 없어”\n",
      "https://v.daum.net/v/20250722214313571\n",
      "강선우 보고서 재송부 요청...이번 주 내 임명할 듯\n",
      "https://v.daum.net/v/20250722211005937\n",
      "가평 캠핑장 참변 가족 수색 사흘째…실종자 수색·복구 총력전\n",
      "https://v.daum.net/v/20250722204242273\n",
      "소비쿠폰 쓰려다가 '화들짝'…\"여기서는 못써요\" 응답에 '당황'한 소비자\n",
      "https://v.daum.net/v/20250722203141032\n",
      "강선우 감싸는 민주 지도부…물밑선 “여의도 감수성, 국민에 뒤처져”\n",
      "https://v.daum.net/v/20250722195213116\n",
      "윤석열 돌연 \"정치탄압\" 입장문‥김건희 출석 임박하자?\n",
      "https://v.daum.net/v/20250722192831557\n",
      "트럼프는 왜 탈중앙화된 통화를 원하나 : 스테이블코인의 본질\n",
      "https://v.daum.net/v/20250722183541061\n",
      "李대통령 \"민생쿠폰은 소비회복, 추가 프로그램 준비\"…소비쿠폰 '깡' 주의(종합)\n",
      "https://v.daum.net/v/20250722182503746\n",
      "소비쿠폰 첫날에만 1조2700억 지급.. 식당·미용실 등 \"손님 늘것\" 기대감\n",
      "https://v.daum.net/v/20250722214300560\n",
      "[농촌 살리는 귀농스토리] ‘아버지 농법’ 걷어내고 ‘선진기술’로 일군 ‘대농의 꿈’\n",
      "https://v.daum.net/v/20250722192238426\n",
      "황규철 옥천군수 “옥천의 미래 위한 초심 잃지 않겠다”\n",
      "https://v.daum.net/v/20250722192212410\n",
      "“그 시절 떠오르니 즐겁구먼유”\n",
      "https://v.daum.net/v/20250722184640374\n",
      "[인터뷰…공감] “러브버그와 공존 방법 찾겠다” 박선재 국립생물자원관 연구관\n",
      "https://v.daum.net/v/20250722181926533\n",
      "올해 JW성천상에 강동원·전진경 부부 의사···\"생명 존중 실천하는 참 의료인 될 것\"\n",
      "https://v.daum.net/v/20250722192903566\n",
      "[그래픽] 집중호우 피해 지역 6곳 특별재난지역 선포\n",
      "https://v.daum.net/v/20250722210126707\n",
      "2025년 7월 23일[김용민의 그림마당]\n"
     ]
    }
   ],
   "source": [
    "print_news('홈')"
   ]
  }
 ],
 "metadata": {
  "kernelspec": {
   "display_name": "base",
   "language": "python",
   "name": "python3"
  },
  "language_info": {
   "codemirror_mode": {
    "name": "ipython",
    "version": 3
   },
   "file_extension": ".py",
   "mimetype": "text/x-python",
   "name": "python",
   "nbconvert_exporter": "python",
   "pygments_lexer": "ipython3",
   "version": "3.12.7"
  }
 },
 "nbformat": 4,
 "nbformat_minor": 5
}
