{
 "cells": [
  {
   "cell_type": "code",
   "execution_count": 2,
   "id": "d0d38cb5",
   "metadata": {},
   "outputs": [],
   "source": [
    "# reqeusts, bs4 import\n",
    "import requests\n",
    "# BeautifulSoup import\n",
    "import bs4\n",
    "# BeautifulSoup 클래스 import\n",
    "from bs4 import BeautifulSoup"
   ]
  },
  {
   "cell_type": "code",
   "execution_count": 3,
   "id": "bbb37e77",
   "metadata": {},
   "outputs": [
    {
     "name": "stdout",
     "output_type": "stream",
     "text": [
      "https://news.daum.net/economy\n",
      "<class 'requests.models.Response'>\n",
      "200\n",
      "<class 'bs4.element.ResultSet'> 9\n",
      "https://v.daum.net/v/20250723213300679\n",
      "[단독] “한국 슈퍼스타 기업 씨 말랐다, 이대론 성장 회복 불가능”…KDI의 경고\n",
      "https://v.daum.net/v/20250723203204354\n",
      "'법인세 부담' 언론 보도가 놓치는 것, 명목보다 실질을 봐야 한다\n",
      "https://v.daum.net/v/20250723200257745\n",
      "스테이블 : USDT의, USDT에 의한, USDT를 위한 디지털 국가\n",
      "https://v.daum.net/v/20250723193636084\n",
      "쌀·소고기 대신 '연료작물' 통할까…\"조선·제조업 내세워 美 설득해야\"\n",
      "https://v.daum.net/v/20250723192143583\n",
      "‘759조 투자·쌀 개방’ 일본 통 큰 양보…정부 대미 협상안 긴급 재조정\n",
      "https://v.daum.net/v/20250723191424311\n",
      "비트코인 다 오른다는데… 20만 달러 갈까 고점서 빠질까\n",
      "https://v.daum.net/v/20250723190948187\n",
      "“배당·장기투자 문화 정착시키고 기관투자자 적극 역할을” [2025 세계증권포럼]\n",
      "https://v.daum.net/v/20250723190857159\n",
      "“해외투자·서비스 수출… 韓·글로벌 경제 ‘질적 연결’ 늘려야” [2025 세계증권포럼]\n",
      "https://v.daum.net/v/20250723190302963\n",
      "주4.5일제 찬반 ‘팽팽’…금융권 선도 vs 부작용 우려\n"
     ]
    }
   ],
   "source": [
    "section_dict = {'홈':'home','기후/환경':'climate','사회':'society','경제':'economy','정치':'politics','국제':'world',\n",
    "                '문화':'culture','생활':'life','IT/과학':'tech','인물':'people','지식/칼럼':'understanding','연재':'series'}\n",
    "# 1번 문제\n",
    "def print_news(section):\n",
    "    sid = section_dict[section]\n",
    "    url = f'https://news.daum.net/{sid}'\n",
    "    print(url)\n",
    "    \n",
    "    # 요청 헤더 설정 : 브라우저 정보\n",
    "    req_header = {\n",
    "        \"user-agent\": \"Mozilla/5.0 (Windows NT 10.0; Win64; x64) AppleWebKit/537.36 (KHTML, like Gecko) Chrome/138.0.0.0 Safari/537.36\"\n",
    "    }\n",
    "    # requests 의 get() 함수 호출하기\n",
    "    res = requests.get(url, headers=req_header)\n",
    "    # utf-8로 encoding\n",
    "    # res.encoding = 'utf-8'\n",
    "    print(type(res))\n",
    "    print(res.status_code)\n",
    "        \n",
    "    if (res.ok):\n",
    "        # utf-8로 encoding\n",
    "        res.encoding = 'utf-8'\n",
    "        html = res.text\n",
    "        # BeautifulSoup 객체 생성\n",
    "        soup = BeautifulSoup(html, \"html.parser\")\n",
    "        li_tags = soup.select(\"ul.list_newsheadline2 li\")\n",
    "        print(f'{type(li_tags)} {len(li_tags)}')\n",
    "        \n",
    "        # <a> 태그 리스트 순회하기   \n",
    "        for li_tag in li_tags:\n",
    "            # strong_tag = li_tag.select('div.cont_thumb strong.tit_txt')[0] #[<strong>]\n",
    "            strong_tag = li_tag.select_one('div.cont_thumb strong.tit_txt')\n",
    "            title = strong_tag.text.strip() # 제목\n",
    "            a_tag = li_tag.find('a')\n",
    "            link = a_tag['href'] # 링크\n",
    "            print(f'{link}\\n{title}')\n",
    "    else:\n",
    "        # 응답(response)이 Error 이면 status code 출력  \n",
    "        print(f'Error Code = {res.status_code}')\n",
    "print_news('경제')"
   ]
  },
  {
   "cell_type": "code",
   "execution_count": 4,
   "id": "8256a661",
   "metadata": {},
   "outputs": [],
   "source": [
    "# 2번 문제\n",
    "def print_news(section_name):\n",
    "    sid = section_dict[section_name]\n",
    "    url = f'https://news.daum.net/{sid}'\n",
    "    print(f'======> {url} {section_name} 뉴스 <======')\n",
    "\n",
    "    # 요청 헤더 설정 : 브라우저 정보\n",
    "    req_header = {\n",
    "        \"user-agent\": \"Mozilla/5.0 (Windows NT 10.0; Win64; x64) AppleWebKit/537.36 (KHTML, like Gecko) Chrome/138.0.0.0 Safari/537.36\"\n",
    "    }\n",
    "    # requests 의 get() 함수 호출하기\n",
    "    res = requests.get(url, headers=req_header)\n",
    "        \n",
    "    if (res.ok):\n",
    "        # utf-8로 encoding\n",
    "        res.encoding = 'utf-8'\n",
    "        html = res.text\n",
    "        # BeautifulSoup 객체 생성\n",
    "        soup = BeautifulSoup(html, \"html.parser\")\n",
    "        li_tags = soup.select(\"ul.list_newsheadline2 li\")\n",
    "        \n",
    "        # <a> 태그 리스트 순회하기   \n",
    "        for li_tag in li_tags:\n",
    "            strong_tag = li_tag.select_one('div.cont_thumb strong.tit_txt')\n",
    "            title = strong_tag.text.strip() # 제목\n",
    "            a_tag = li_tag.find('a')\n",
    "            link = a_tag['href'] # 링크\n",
    "            print(f'{link}\\n{title}')\n",
    "    else:\n",
    "        # 응답(response)이 Error 이면 status code 출력  \n",
    "        print(f'Error Code = {res.status_code}')"
   ]
  },
  {
   "cell_type": "code",
   "execution_count": 5,
   "id": "39d2b0a4",
   "metadata": {},
   "outputs": [
    {
     "name": "stdout",
     "output_type": "stream",
     "text": [
      "======> https://news.daum.net/economy 경제 뉴스 <======\n",
      "https://v.daum.net/v/20250723213300679\n",
      "[단독] “한국 슈퍼스타 기업 씨 말랐다, 이대론 성장 회복 불가능”…KDI의 경고\n",
      "https://v.daum.net/v/20250723203204354\n",
      "'법인세 부담' 언론 보도가 놓치는 것, 명목보다 실질을 봐야 한다\n",
      "https://v.daum.net/v/20250723200257745\n",
      "스테이블 : USDT의, USDT에 의한, USDT를 위한 디지털 국가\n",
      "https://v.daum.net/v/20250723193636084\n",
      "쌀·소고기 대신 '연료작물' 통할까…\"조선·제조업 내세워 美 설득해야\"\n",
      "https://v.daum.net/v/20250723192143583\n",
      "‘759조 투자·쌀 개방’ 일본 통 큰 양보…정부 대미 협상안 긴급 재조정\n",
      "https://v.daum.net/v/20250723191424311\n",
      "비트코인 다 오른다는데… 20만 달러 갈까 고점서 빠질까\n",
      "https://v.daum.net/v/20250723190948187\n",
      "“배당·장기투자 문화 정착시키고 기관투자자 적극 역할을” [2025 세계증권포럼]\n",
      "https://v.daum.net/v/20250723190857159\n",
      "“해외투자·서비스 수출… 韓·글로벌 경제 ‘질적 연결’ 늘려야” [2025 세계증권포럼]\n",
      "https://v.daum.net/v/20250723190302963\n",
      "주4.5일제 찬반 ‘팽팽’…금융권 선도 vs 부작용 우려\n"
     ]
    }
   ],
   "source": [
    "# 함수호출\n",
    "print_news('경제')"
   ]
  },
  {
   "cell_type": "code",
   "execution_count": 6,
   "id": "28865abb",
   "metadata": {},
   "outputs": [
    {
     "name": "stdout",
     "output_type": "stream",
     "text": [
      "======> https://news.daum.net/society 사회 뉴스 <======\n",
      "https://v.daum.net/v/20250724000607586\n",
      "“기존 학생 따돌림 금지 약속하라”...유급대상 의대생 8천명 2학기 복귀 허용\n",
      "https://v.daum.net/v/20250724000213493\n",
      "도심 한복판 시원·쾌적한 숲…서울 '정원도시' 실험\n",
      "https://v.daum.net/v/20250723233901281\n",
      "갈팡질팡 정부, 의대 정상화 발표 돌연 취소\n",
      "https://v.daum.net/v/20250723222947657\n",
      "“시험지 훔쳐 ‘전교 1등’ 그 학생뿐일까”…커지는 공교육 불신\n",
      "https://v.daum.net/v/20250723221653451\n",
      "KIA, 깊어지는 불펜 고민…연장 접전 끝 LG에 5-6 패배\n",
      "https://v.daum.net/v/20250723221126367\n",
      "[단독] 지영준 변호사 “인권위원 추천 발표 전 안창호 위원장 만났다”\n",
      "https://v.daum.net/v/20250723215518087\n",
      "[찾아가는K] 물난리 막겠다더니…인력도 전기도 없었다\n",
      "https://v.daum.net/v/20250723213900754\n",
      "달궈지는 '지구 에어컨' 북극‥빙하가 사라진다 [스발바르②]\n",
      "https://v.daum.net/v/20250723212304504\n",
      "보증금 받으러 가니 \"난 현장 노동자\"...신종 전세사기 못따라가는 경찰\n"
     ]
    }
   ],
   "source": [
    "print_news('사회')"
   ]
  },
  {
   "cell_type": "code",
   "execution_count": 7,
   "id": "5c8b2a84",
   "metadata": {},
   "outputs": [
    {
     "name": "stdout",
     "output_type": "stream",
     "text": [
      "======> https://news.daum.net/people 인물 뉴스 <======\n",
      "https://v.daum.net/v/20250723180250145\n",
      "[인터뷰] “부산 블록체인 기업 성과 이끌 해외 진출, 두바이가 열쇠” 김성원 부산테크노파크 차장\n",
      "https://v.daum.net/v/20250723174815473\n",
      "[단독] 3차 한류는 K팝 현지화 '에이투오 메이'가 출발점 中 발판 삼아 세계로 갈것\n",
      "https://v.daum.net/v/20250723105401040\n",
      "\"불교 목조각 전문 교육 없어... 환갑 넘은 내가 거의 막내\"\n",
      "https://v.daum.net/v/20250723093834177\n",
      "‘최초’가 ‘최후’로 그쳐선 안 된다는 사명감 ③ 권오남 서울대 수학교육과 교수 [플랫][여자, 언니, 선배들]\n",
      "https://v.daum.net/v/20250723090128666\n",
      "‘헐크’도 무리하면 아픈 나이… 이젠 할 일 조금씩 내려놓을 것[응원합니다]\n",
      "https://v.daum.net/v/20250723084235104\n",
      "[MZ순경]\"평범한 일상의 마지막 보호망 되고파\"...새내기 APO의 다짐\n",
      "https://v.daum.net/v/20250723060025284\n",
      "[청년이 미래다] 무 종자 생산하는 박범준씨 | 디지털농업\n",
      "https://v.daum.net/v/20250722214300560\n",
      "[농촌 살리는 귀농스토리] ‘아버지 농법’ 걷어내고 ‘선진기술’로 일군 ‘대농의 꿈’\n",
      "https://v.daum.net/v/20250722184640374\n",
      "[인터뷰…공감] “러브버그와 공존 방법 찾겠다” 박선재 국립생물자원관 연구관\n",
      "https://v.daum.net/v/20250723080904246\n",
      "전주 명물 ‘한옥 기와 모스크’ 지킴이, 알라 곁으로 떠났다\n",
      "https://v.daum.net/v/20250722215456780\n",
      "‘미니카의 아버지’ 다미야 슌사쿠 타미야 회장 별세\n",
      "https://v.daum.net/v/20250722043157507\n",
      "[가만한 당신] 아이의 열정으로 일식을 쫓은 \"아마추어\" NASA 과학자\n",
      "https://v.daum.net/v/20250721183651189\n",
      "고미술-현대미술 관통하는 ‘조형정신’ 읽어냈던 컬렉터\n",
      "https://v.daum.net/v/20250714184637316\n",
      "조작간첩 50년 만의 무죄 “동지들 곁에서 외롭지 않겠죠”\n",
      "https://v.daum.net/v/20250723110926047\n",
      "“고엽제 2세 후유증, 딱 세 질환만 인정… 이마저 ‘원님 재판’”\n"
     ]
    }
   ],
   "source": [
    "print_news('인물')"
   ]
  },
  {
   "cell_type": "code",
   "execution_count": 8,
   "id": "68ae53e0",
   "metadata": {},
   "outputs": [
    {
     "name": "stdout",
     "output_type": "stream",
     "text": [
      "======> https://news.daum.net/home 홈 뉴스 <======\n",
      "https://v.daum.net/v/20250723233942287\n",
      "'광주 소비쿠폰 논란에 공무원 밤샘 스티커 작업…소관 국장 사과(종합)\n",
      "https://v.daum.net/v/20250723221943483\n",
      "특검, 김건희 '문고리' 보좌진 연이틀 소환…'나토순방'도 조준(종합)\n",
      "https://v.daum.net/v/20250723210147031\n",
      "여소야대 대만, ‘野의원 24명 파면’ 초유의 국민투표\n",
      "https://v.daum.net/v/20250723200117709\n",
      "'집사 게이트' 줄소환‥'김건희 측근' 수사 속도\n",
      "https://v.daum.net/v/20250723195740613\n",
      "수마 할퀸 가평서 실종자 수색 확대…피해 복구 총력(종합)\n",
      "https://v.daum.net/v/20250723192635765\n",
      "2주 간의 강선우 파문···이 대통령 ‘실용주의 인선’엔 의문, ‘당정일치’엔 우려\n",
      "https://v.daum.net/v/20250723190601088\n",
      "배당소득 분리과세 축소한다고?…간신히 불붙인 오천피 기대감에 찬물\n",
      "https://v.daum.net/v/20250723183542247\n",
      "의총 두번에도 혁신안 흐지부지…국힘 \"대여 공세 집중할 때\"(종합)\n",
      "https://v.daum.net/v/20250723182204881\n",
      "전교 1등 한번도 안놓친 여고생, 그 뒤엔 4명의 비밀 있었다\n",
      "https://v.daum.net/v/20250723180250145\n",
      "[인터뷰] “부산 블록체인 기업 성과 이끌 해외 진출, 두바이가 열쇠” 김성원 부산테크노파크 차장\n",
      "https://v.daum.net/v/20250723174815473\n",
      "[단독] 3차 한류는 K팝 현지화 '에이투오 메이'가 출발점 中 발판 삼아 세계로 갈것\n",
      "https://v.daum.net/v/20250723105401040\n",
      "\"불교 목조각 전문 교육 없어... 환갑 넘은 내가 거의 막내\"\n",
      "https://v.daum.net/v/20250723093834177\n",
      "‘최초’가 ‘최후’로 그쳐선 안 된다는 사명감 ③ 권오남 서울대 수학교육과 교수 [플랫][여자, 언니, 선배들]\n",
      "https://v.daum.net/v/20250723090128666\n",
      "‘헐크’도 무리하면 아픈 나이… 이젠 할 일 조금씩 내려놓을 것[응원합니다]\n",
      "https://v.daum.net/v/20250723210554172\n",
      "[그래픽] 이재명 정부 장관 임명 현황(종합)\n",
      "https://v.daum.net/v/20250723212527543\n",
      "2025년 7월 24일[김용민의 그림마당]\n"
     ]
    }
   ],
   "source": [
    "print_news('홈')"
   ]
  }
 ],
 "metadata": {
  "kernelspec": {
   "display_name": "base",
   "language": "python",
   "name": "python3"
  },
  "language_info": {
   "codemirror_mode": {
    "name": "ipython",
    "version": 3
   },
   "file_extension": ".py",
   "mimetype": "text/x-python",
   "name": "python",
   "nbconvert_exporter": "python",
   "pygments_lexer": "ipython3",
   "version": "3.12.7"
  }
 },
 "nbformat": 4,
 "nbformat_minor": 5
}
